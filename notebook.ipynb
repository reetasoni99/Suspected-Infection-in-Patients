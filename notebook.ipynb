{
  "nbformat": 4,
  "nbformat_minor": 0,
  "metadata": {
    "kernelspec": {
      "name": "ir",
      "display_name": "R",
      "language": "R"
    },
    "language_info": {
      "name": "R",
      "codemirror_mode": "r",
      "pygments_lexer": "r",
      "mimetype": "text/x-r-source",
      "file_extension": ".r",
      "version": "3.5.3"
    },
    "colab": {
      "name": "notebook.ipynb",
      "provenance": [],
      "toc_visible": true,
      "include_colab_link": true
    }
  },
  "cells": [
    {
      "cell_type": "markdown",
      "metadata": {
        "id": "view-in-github",
        "colab_type": "text"
      },
      "source": [
        "<a href=\"https://colab.research.google.com/github/reetasoni99/Suspected-Infection-in-Patients/blob/master/notebook.ipynb\" target=\"_parent\"><img src=\"https://colab.research.google.com/assets/colab-badge.svg\" alt=\"Open In Colab\"/></a>"
      ]
    },
    {
      "cell_type": "markdown",
      "metadata": {
        "dc": {
          "key": "4"
        },
        "deletable": false,
        "editable": false,
        "run_control": {
          "frozen": true
        },
        "tags": [
          "context"
        ],
        "id": "xMwBXcO1kmSO",
        "colab_type": "text"
      },
      "source": [
        "## 1. This patient may have sepsis\n",
        "<p>Sepsis is a deadly syndrome where a patient has a severe infection that causes organ failure. The sooner septic patients are treated, the more likely they are to survive, but sepsis can be challenging to recognize. It may be possible to use hospital data to develop machine learning models that could flag patients who are likely to be septic. However, before we develop predictive algorithms, we need a reliable method to determine patients who are septic. One component of sepsis is a severe infection.</p>\n",
        "<p>In this project, we will use two weeks of hospital electronic health record (EHR) data to find out which patients had a severe infection according to four criteria. We will look into the data to see if a doctor ordered a blood test to look for bacteria (a blood culture) and gave the patient a series of intervenous antibiotics. </p>\n",
        "<p>Let's get started!</p>"
      ]
    },
    {
      "cell_type": "code",
      "metadata": {
        "dc": {
          "key": "4"
        },
        "tags": [
          "sample_code"
        ],
        "trusted": false,
        "id": "4IMEAK_-kmSQ",
        "colab_type": "code",
        "colab": {
          "base_uri": "https://localhost:8080/",
          "height": 643
        },
        "outputId": "47a943be-9389-4051-a347-425599d425d3"
      },
      "source": [
        "# Load packages\n",
        "install.packages(\"data.table\")\n",
        "require(data.table)\n",
        "\n",
        "# Read in the data\n",
        "antibioticDT <- fread('/media/Dataset/antibioticDT.csv')\n",
        "\n",
        "# Look at the first 30 rows\n",
        "head(antibioticDT, 30)"
      ],
      "execution_count": 4,
      "outputs": [
        {
          "output_type": "stream",
          "text": [
            "Installing package into ‘/usr/local/lib/R/site-library’\n",
            "(as ‘lib’ is unspecified)\n",
            "\n"
          ],
          "name": "stderr"
        },
        {
          "output_type": "display_data",
          "data": {
            "text/plain": [
              "   patient_id day_given antibiotic_type route\n",
              "1   1          2        ciprofloxacin   IV   \n",
              "2   1          4        ciprofloxacin   IV   \n",
              "3   1          6        ciprofloxacin   IV   \n",
              "4   1          7        doxycycline     IV   \n",
              "5   1          9        doxycycline     IV   \n",
              "6   1         15        penicillin      IV   \n",
              "7   1         16        doxycycline     IV   \n",
              "8   1         18        ciprofloxacin   IV   \n",
              "9   8          1        doxycycline     PO   \n",
              "10  8          2        penicillin      IV   \n",
              "11  8          3        doxycycline     IV   \n",
              "12  8          6        doxycycline     PO   \n",
              "13  8          8        penicillin      PO   \n",
              "14  8         12        penicillin      IV   \n",
              "15  9          8        doxycycline     IV   \n",
              "16  9         12        doxycycline     PO   \n",
              "17 12          4        doxycycline     PO   \n",
              "18 12          9        doxycycline     IV   \n",
              "19 16          1        doxycycline     IV   \n",
              "20 16          4        amoxicillin     IV   \n",
              "21 19          3        doxycycline     PO   \n",
              "22 19          5        amoxicillin     IV   \n",
              "23 19          6        ciprofloxacin   IV   \n",
              "24 19         10        doxycycline     IV   \n",
              "25 19         12        penicillin      IV   \n",
              "26 23          1        doxycycline     IV   \n",
              "27 23          1        penicillin      IV   \n",
              "28 23          3        amoxicillin     IV   \n",
              "29 23          3        ciprofloxacin   IV   \n",
              "30 23          3        doxycycline     IV   "
            ],
            "text/latex": "A data.table: 30 × 4\n\\begin{tabular}{llll}\n patient\\_id & day\\_given & antibiotic\\_type & route\\\\\n <int> & <int> & <chr> & <chr>\\\\\n\\hline\n\t  1 &  2 & ciprofloxacin & IV\\\\\n\t  1 &  4 & ciprofloxacin & IV\\\\\n\t  1 &  6 & ciprofloxacin & IV\\\\\n\t  1 &  7 & doxycycline   & IV\\\\\n\t  1 &  9 & doxycycline   & IV\\\\\n\t  1 & 15 & penicillin    & IV\\\\\n\t  1 & 16 & doxycycline   & IV\\\\\n\t  1 & 18 & ciprofloxacin & IV\\\\\n\t  8 &  1 & doxycycline   & PO\\\\\n\t  8 &  2 & penicillin    & IV\\\\\n\t  8 &  3 & doxycycline   & IV\\\\\n\t  8 &  6 & doxycycline   & PO\\\\\n\t  8 &  8 & penicillin    & PO\\\\\n\t  8 & 12 & penicillin    & IV\\\\\n\t  9 &  8 & doxycycline   & IV\\\\\n\t  9 & 12 & doxycycline   & PO\\\\\n\t 12 &  4 & doxycycline   & PO\\\\\n\t 12 &  9 & doxycycline   & IV\\\\\n\t 16 &  1 & doxycycline   & IV\\\\\n\t 16 &  4 & amoxicillin   & IV\\\\\n\t 19 &  3 & doxycycline   & PO\\\\\n\t 19 &  5 & amoxicillin   & IV\\\\\n\t 19 &  6 & ciprofloxacin & IV\\\\\n\t 19 & 10 & doxycycline   & IV\\\\\n\t 19 & 12 & penicillin    & IV\\\\\n\t 23 &  1 & doxycycline   & IV\\\\\n\t 23 &  1 & penicillin    & IV\\\\\n\t 23 &  3 & amoxicillin   & IV\\\\\n\t 23 &  3 & ciprofloxacin & IV\\\\\n\t 23 &  3 & doxycycline   & IV\\\\\n\\end{tabular}\n",
            "text/markdown": "\nA data.table: 30 × 4\n\n| patient_id &lt;int&gt; | day_given &lt;int&gt; | antibiotic_type &lt;chr&gt; | route &lt;chr&gt; |\n|---|---|---|---|\n|  1 |  2 | ciprofloxacin | IV |\n|  1 |  4 | ciprofloxacin | IV |\n|  1 |  6 | ciprofloxacin | IV |\n|  1 |  7 | doxycycline   | IV |\n|  1 |  9 | doxycycline   | IV |\n|  1 | 15 | penicillin    | IV |\n|  1 | 16 | doxycycline   | IV |\n|  1 | 18 | ciprofloxacin | IV |\n|  8 |  1 | doxycycline   | PO |\n|  8 |  2 | penicillin    | IV |\n|  8 |  3 | doxycycline   | IV |\n|  8 |  6 | doxycycline   | PO |\n|  8 |  8 | penicillin    | PO |\n|  8 | 12 | penicillin    | IV |\n|  9 |  8 | doxycycline   | IV |\n|  9 | 12 | doxycycline   | PO |\n| 12 |  4 | doxycycline   | PO |\n| 12 |  9 | doxycycline   | IV |\n| 16 |  1 | doxycycline   | IV |\n| 16 |  4 | amoxicillin   | IV |\n| 19 |  3 | doxycycline   | PO |\n| 19 |  5 | amoxicillin   | IV |\n| 19 |  6 | ciprofloxacin | IV |\n| 19 | 10 | doxycycline   | IV |\n| 19 | 12 | penicillin    | IV |\n| 23 |  1 | doxycycline   | IV |\n| 23 |  1 | penicillin    | IV |\n| 23 |  3 | amoxicillin   | IV |\n| 23 |  3 | ciprofloxacin | IV |\n| 23 |  3 | doxycycline   | IV |\n\n",
            "text/html": [
              "<table>\n",
              "<caption>A data.table: 30 × 4</caption>\n",
              "<thead>\n",
              "\t<tr><th scope=col>patient_id</th><th scope=col>day_given</th><th scope=col>antibiotic_type</th><th scope=col>route</th></tr>\n",
              "\t<tr><th scope=col>&lt;int&gt;</th><th scope=col>&lt;int&gt;</th><th scope=col>&lt;chr&gt;</th><th scope=col>&lt;chr&gt;</th></tr>\n",
              "</thead>\n",
              "<tbody>\n",
              "\t<tr><td> 1</td><td> 2</td><td>ciprofloxacin</td><td>IV</td></tr>\n",
              "\t<tr><td> 1</td><td> 4</td><td>ciprofloxacin</td><td>IV</td></tr>\n",
              "\t<tr><td> 1</td><td> 6</td><td>ciprofloxacin</td><td>IV</td></tr>\n",
              "\t<tr><td> 1</td><td> 7</td><td>doxycycline  </td><td>IV</td></tr>\n",
              "\t<tr><td> 1</td><td> 9</td><td>doxycycline  </td><td>IV</td></tr>\n",
              "\t<tr><td> 1</td><td>15</td><td>penicillin   </td><td>IV</td></tr>\n",
              "\t<tr><td> 1</td><td>16</td><td>doxycycline  </td><td>IV</td></tr>\n",
              "\t<tr><td> 1</td><td>18</td><td>ciprofloxacin</td><td>IV</td></tr>\n",
              "\t<tr><td> 8</td><td> 1</td><td>doxycycline  </td><td>PO</td></tr>\n",
              "\t<tr><td> 8</td><td> 2</td><td>penicillin   </td><td>IV</td></tr>\n",
              "\t<tr><td> 8</td><td> 3</td><td>doxycycline  </td><td>IV</td></tr>\n",
              "\t<tr><td> 8</td><td> 6</td><td>doxycycline  </td><td>PO</td></tr>\n",
              "\t<tr><td> 8</td><td> 8</td><td>penicillin   </td><td>PO</td></tr>\n",
              "\t<tr><td> 8</td><td>12</td><td>penicillin   </td><td>IV</td></tr>\n",
              "\t<tr><td> 9</td><td> 8</td><td>doxycycline  </td><td>IV</td></tr>\n",
              "\t<tr><td> 9</td><td>12</td><td>doxycycline  </td><td>PO</td></tr>\n",
              "\t<tr><td>12</td><td> 4</td><td>doxycycline  </td><td>PO</td></tr>\n",
              "\t<tr><td>12</td><td> 9</td><td>doxycycline  </td><td>IV</td></tr>\n",
              "\t<tr><td>16</td><td> 1</td><td>doxycycline  </td><td>IV</td></tr>\n",
              "\t<tr><td>16</td><td> 4</td><td>amoxicillin  </td><td>IV</td></tr>\n",
              "\t<tr><td>19</td><td> 3</td><td>doxycycline  </td><td>PO</td></tr>\n",
              "\t<tr><td>19</td><td> 5</td><td>amoxicillin  </td><td>IV</td></tr>\n",
              "\t<tr><td>19</td><td> 6</td><td>ciprofloxacin</td><td>IV</td></tr>\n",
              "\t<tr><td>19</td><td>10</td><td>doxycycline  </td><td>IV</td></tr>\n",
              "\t<tr><td>19</td><td>12</td><td>penicillin   </td><td>IV</td></tr>\n",
              "\t<tr><td>23</td><td> 1</td><td>doxycycline  </td><td>IV</td></tr>\n",
              "\t<tr><td>23</td><td> 1</td><td>penicillin   </td><td>IV</td></tr>\n",
              "\t<tr><td>23</td><td> 3</td><td>amoxicillin  </td><td>IV</td></tr>\n",
              "\t<tr><td>23</td><td> 3</td><td>ciprofloxacin</td><td>IV</td></tr>\n",
              "\t<tr><td>23</td><td> 3</td><td>doxycycline  </td><td>IV</td></tr>\n",
              "</tbody>\n",
              "</table>\n"
            ]
          },
          "metadata": {
            "tags": []
          }
        }
      ]
    },
    {
      "cell_type": "markdown",
      "metadata": {
        "dc": {
          "key": "11"
        },
        "deletable": false,
        "editable": false,
        "run_control": {
          "frozen": true
        },
        "tags": [
          "context"
        ],
        "id": "CVsLNSFHkmSb",
        "colab_type": "text"
      },
      "source": [
        "## 2. Which antibiotics are \"new\"?\n",
        "<p>These data represent all drugs administered in a hospital over two weeks. Each row represents one time a patient was given an antibiotic. The variables include the patient identification number, the day the drug was administered, the name of the antibiotic, and how it was administered. For example, patient \"8\" received doxycycline by mouth on the first day of their stay.</p>\n",
        "<p>We will identify patients with a serious infection using the following criteria. </p>\n",
        "<p><strong>Criteria for Suspected Infection</strong><a href=\"https://www.ncbi.nlm.nih.gov/pubmed/28903154\">*</a></p>\n",
        "<ol>\n",
        "<li>The patient receives antibiotics for a sequence of four days, with gaps of one day allowed.</li>\n",
        "<li>The sequence must start with a new antibiotic, defined as an antibiotic type that was not given in the previous two days.</li>\n",
        "<li>The sequence must start within two days of a blood culture.</li>\n",
        "<li>There must be at least one intervenous (I.V.) antibiotic within the +/-2 day window.</li>\n",
        "</ol>\n",
        "<p>Let's start with the second item by finding which rows represent \"new antibiotics\". We will determine if each antibiotic was given to the patient in the prior two days. We'll visualize this task by looking at the data sorted by id, antibiotic type, and day.</p>"
      ]
    },
    {
      "cell_type": "code",
      "metadata": {
        "dc": {
          "key": "11"
        },
        "tags": [
          "sample_code"
        ],
        "trusted": false,
        "id": "2Y9yFa2gkmSc",
        "colab_type": "code",
        "colab": {
          "base_uri": "https://localhost:8080/",
          "height": 1000
        },
        "outputId": "0cf6ce92-bb69-43c0-fa57-519643af6036"
      },
      "source": [
        "# Sort the data and examine the first 40 rows\n",
        "setorder(x = antibioticDT, patient_id, antibiotic_type, day_given)\n",
        "antibioticDT[1:40]\n",
        "\n",
        "# Use shift to calculate the last day a particular drug was administered\n",
        "antibioticDT[ , last_administration_day := shift(day_given, n = 1, type = \"lag\"), \n",
        "  by = .(patient_id, antibiotic_type)]\n",
        "\n",
        "# Calculate the number of days since the drug was last administered\n",
        "antibioticDT[ , days_since_last_admin := day_given - last_administration_day]\n",
        "\n",
        "# Create antibiotic_new with an initial value of one, then reset it to zero as needed\n",
        "antibioticDT[, antibiotic_new := 1]\n",
        "antibioticDT[days_since_last_admin <= 2, antibiotic_new := 0]\n",
        "antibioticDT[1:40]"
      ],
      "execution_count": 7,
      "outputs": [
        {
          "output_type": "display_data",
          "data": {
            "text/plain": [
              "   patient_id day_given antibiotic_type route last_administration_day\n",
              "1   1          2        ciprofloxacin   IV    NA                     \n",
              "2   1          4        ciprofloxacin   IV     2                     \n",
              "3   1          6        ciprofloxacin   IV     4                     \n",
              "4   1         18        ciprofloxacin   IV     6                     \n",
              "5   1          7        doxycycline     IV    NA                     \n",
              "6   1          9        doxycycline     IV     7                     \n",
              "7   1         16        doxycycline     IV     9                     \n",
              "8   1         15        penicillin      IV    NA                     \n",
              "9   8          1        doxycycline     PO    NA                     \n",
              "10  8          3        doxycycline     IV     1                     \n",
              "11  8          6        doxycycline     PO     3                     \n",
              "12  8          2        penicillin      IV    NA                     \n",
              "13  8          8        penicillin      PO     2                     \n",
              "14  8         12        penicillin      IV     8                     \n",
              "15  9          8        doxycycline     IV    NA                     \n",
              "16  9         12        doxycycline     PO     8                     \n",
              "17 12          4        doxycycline     PO    NA                     \n",
              "18 12          9        doxycycline     IV     4                     \n",
              "19 16          4        amoxicillin     IV    NA                     \n",
              "20 16          1        doxycycline     IV    NA                     \n",
              "21 19          5        amoxicillin     IV    NA                     \n",
              "22 19          6        ciprofloxacin   IV    NA                     \n",
              "23 19          3        doxycycline     PO    NA                     \n",
              "24 19         10        doxycycline     IV     3                     \n",
              "25 19         12        penicillin      IV    NA                     \n",
              "26 23          3        amoxicillin     IV    NA                     \n",
              "27 23          8        amoxicillin     IV     3                     \n",
              "28 23         10        amoxicillin     PO     8                     \n",
              "29 23          3        ciprofloxacin   IV    NA                     \n",
              "30 23          5        ciprofloxacin   PO     3                     \n",
              "31 23         16        ciprofloxacin   IV     5                     \n",
              "32 23          1        doxycycline     IV    NA                     \n",
              "33 23          3        doxycycline     IV     1                     \n",
              "34 23          4        doxycycline     IV     3                     \n",
              "35 23          5        doxycycline     IV     4                     \n",
              "36 23          6        doxycycline     IV     5                     \n",
              "37 23          6        doxycycline     PO     6                     \n",
              "38 23          9        doxycycline     PO     6                     \n",
              "39 23         10        doxycycline     IV     9                     \n",
              "40 23         11        doxycycline     PO    10                     \n",
              "   days_since_last_admin antibiotic_new\n",
              "1  NA                    1             \n",
              "2   2                    0             \n",
              "3   2                    0             \n",
              "4  12                    1             \n",
              "5  NA                    1             \n",
              "6   2                    0             \n",
              "7   7                    1             \n",
              "8  NA                    1             \n",
              "9  NA                    1             \n",
              "10  2                    0             \n",
              "11  3                    1             \n",
              "12 NA                    1             \n",
              "13  6                    1             \n",
              "14  4                    1             \n",
              "15 NA                    1             \n",
              "16  4                    1             \n",
              "17 NA                    1             \n",
              "18  5                    1             \n",
              "19 NA                    1             \n",
              "20 NA                    1             \n",
              "21 NA                    1             \n",
              "22 NA                    1             \n",
              "23 NA                    1             \n",
              "24  7                    1             \n",
              "25 NA                    1             \n",
              "26 NA                    1             \n",
              "27  5                    1             \n",
              "28  2                    0             \n",
              "29 NA                    1             \n",
              "30  2                    0             \n",
              "31 11                    1             \n",
              "32 NA                    1             \n",
              "33  2                    0             \n",
              "34  1                    0             \n",
              "35  1                    0             \n",
              "36  1                    0             \n",
              "37  0                    0             \n",
              "38  3                    1             \n",
              "39  1                    0             \n",
              "40  1                    0             "
            ],
            "text/latex": "A data.table: 40 × 7\n\\begin{tabular}{lllllll}\n patient\\_id & day\\_given & antibiotic\\_type & route & last\\_administration\\_day & days\\_since\\_last\\_admin & antibiotic\\_new\\\\\n <int> & <int> & <chr> & <chr> & <int> & <int> & <dbl>\\\\\n\\hline\n\t  1 &  2 & ciprofloxacin & IV & NA & NA & 1\\\\\n\t  1 &  4 & ciprofloxacin & IV &  2 &  2 & 0\\\\\n\t  1 &  6 & ciprofloxacin & IV &  4 &  2 & 0\\\\\n\t  1 & 18 & ciprofloxacin & IV &  6 & 12 & 1\\\\\n\t  1 &  7 & doxycycline   & IV & NA & NA & 1\\\\\n\t  1 &  9 & doxycycline   & IV &  7 &  2 & 0\\\\\n\t  1 & 16 & doxycycline   & IV &  9 &  7 & 1\\\\\n\t  1 & 15 & penicillin    & IV & NA & NA & 1\\\\\n\t  8 &  1 & doxycycline   & PO & NA & NA & 1\\\\\n\t  8 &  3 & doxycycline   & IV &  1 &  2 & 0\\\\\n\t  8 &  6 & doxycycline   & PO &  3 &  3 & 1\\\\\n\t  8 &  2 & penicillin    & IV & NA & NA & 1\\\\\n\t  8 &  8 & penicillin    & PO &  2 &  6 & 1\\\\\n\t  8 & 12 & penicillin    & IV &  8 &  4 & 1\\\\\n\t  9 &  8 & doxycycline   & IV & NA & NA & 1\\\\\n\t  9 & 12 & doxycycline   & PO &  8 &  4 & 1\\\\\n\t 12 &  4 & doxycycline   & PO & NA & NA & 1\\\\\n\t 12 &  9 & doxycycline   & IV &  4 &  5 & 1\\\\\n\t 16 &  4 & amoxicillin   & IV & NA & NA & 1\\\\\n\t 16 &  1 & doxycycline   & IV & NA & NA & 1\\\\\n\t 19 &  5 & amoxicillin   & IV & NA & NA & 1\\\\\n\t 19 &  6 & ciprofloxacin & IV & NA & NA & 1\\\\\n\t 19 &  3 & doxycycline   & PO & NA & NA & 1\\\\\n\t 19 & 10 & doxycycline   & IV &  3 &  7 & 1\\\\\n\t 19 & 12 & penicillin    & IV & NA & NA & 1\\\\\n\t 23 &  3 & amoxicillin   & IV & NA & NA & 1\\\\\n\t 23 &  8 & amoxicillin   & IV &  3 &  5 & 1\\\\\n\t 23 & 10 & amoxicillin   & PO &  8 &  2 & 0\\\\\n\t 23 &  3 & ciprofloxacin & IV & NA & NA & 1\\\\\n\t 23 &  5 & ciprofloxacin & PO &  3 &  2 & 0\\\\\n\t 23 & 16 & ciprofloxacin & IV &  5 & 11 & 1\\\\\n\t 23 &  1 & doxycycline   & IV & NA & NA & 1\\\\\n\t 23 &  3 & doxycycline   & IV &  1 &  2 & 0\\\\\n\t 23 &  4 & doxycycline   & IV &  3 &  1 & 0\\\\\n\t 23 &  5 & doxycycline   & IV &  4 &  1 & 0\\\\\n\t 23 &  6 & doxycycline   & IV &  5 &  1 & 0\\\\\n\t 23 &  6 & doxycycline   & PO &  6 &  0 & 0\\\\\n\t 23 &  9 & doxycycline   & PO &  6 &  3 & 1\\\\\n\t 23 & 10 & doxycycline   & IV &  9 &  1 & 0\\\\\n\t 23 & 11 & doxycycline   & PO & 10 &  1 & 0\\\\\n\\end{tabular}\n",
            "text/markdown": "\nA data.table: 40 × 7\n\n| patient_id &lt;int&gt; | day_given &lt;int&gt; | antibiotic_type &lt;chr&gt; | route &lt;chr&gt; | last_administration_day &lt;int&gt; | days_since_last_admin &lt;int&gt; | antibiotic_new &lt;dbl&gt; |\n|---|---|---|---|---|---|---|\n|  1 |  2 | ciprofloxacin | IV | NA | NA | 1 |\n|  1 |  4 | ciprofloxacin | IV |  2 |  2 | 0 |\n|  1 |  6 | ciprofloxacin | IV |  4 |  2 | 0 |\n|  1 | 18 | ciprofloxacin | IV |  6 | 12 | 1 |\n|  1 |  7 | doxycycline   | IV | NA | NA | 1 |\n|  1 |  9 | doxycycline   | IV |  7 |  2 | 0 |\n|  1 | 16 | doxycycline   | IV |  9 |  7 | 1 |\n|  1 | 15 | penicillin    | IV | NA | NA | 1 |\n|  8 |  1 | doxycycline   | PO | NA | NA | 1 |\n|  8 |  3 | doxycycline   | IV |  1 |  2 | 0 |\n|  8 |  6 | doxycycline   | PO |  3 |  3 | 1 |\n|  8 |  2 | penicillin    | IV | NA | NA | 1 |\n|  8 |  8 | penicillin    | PO |  2 |  6 | 1 |\n|  8 | 12 | penicillin    | IV |  8 |  4 | 1 |\n|  9 |  8 | doxycycline   | IV | NA | NA | 1 |\n|  9 | 12 | doxycycline   | PO |  8 |  4 | 1 |\n| 12 |  4 | doxycycline   | PO | NA | NA | 1 |\n| 12 |  9 | doxycycline   | IV |  4 |  5 | 1 |\n| 16 |  4 | amoxicillin   | IV | NA | NA | 1 |\n| 16 |  1 | doxycycline   | IV | NA | NA | 1 |\n| 19 |  5 | amoxicillin   | IV | NA | NA | 1 |\n| 19 |  6 | ciprofloxacin | IV | NA | NA | 1 |\n| 19 |  3 | doxycycline   | PO | NA | NA | 1 |\n| 19 | 10 | doxycycline   | IV |  3 |  7 | 1 |\n| 19 | 12 | penicillin    | IV | NA | NA | 1 |\n| 23 |  3 | amoxicillin   | IV | NA | NA | 1 |\n| 23 |  8 | amoxicillin   | IV |  3 |  5 | 1 |\n| 23 | 10 | amoxicillin   | PO |  8 |  2 | 0 |\n| 23 |  3 | ciprofloxacin | IV | NA | NA | 1 |\n| 23 |  5 | ciprofloxacin | PO |  3 |  2 | 0 |\n| 23 | 16 | ciprofloxacin | IV |  5 | 11 | 1 |\n| 23 |  1 | doxycycline   | IV | NA | NA | 1 |\n| 23 |  3 | doxycycline   | IV |  1 |  2 | 0 |\n| 23 |  4 | doxycycline   | IV |  3 |  1 | 0 |\n| 23 |  5 | doxycycline   | IV |  4 |  1 | 0 |\n| 23 |  6 | doxycycline   | IV |  5 |  1 | 0 |\n| 23 |  6 | doxycycline   | PO |  6 |  0 | 0 |\n| 23 |  9 | doxycycline   | PO |  6 |  3 | 1 |\n| 23 | 10 | doxycycline   | IV |  9 |  1 | 0 |\n| 23 | 11 | doxycycline   | PO | 10 |  1 | 0 |\n\n",
            "text/html": [
              "<table>\n",
              "<caption>A data.table: 40 × 7</caption>\n",
              "<thead>\n",
              "\t<tr><th scope=col>patient_id</th><th scope=col>day_given</th><th scope=col>antibiotic_type</th><th scope=col>route</th><th scope=col>last_administration_day</th><th scope=col>days_since_last_admin</th><th scope=col>antibiotic_new</th></tr>\n",
              "\t<tr><th scope=col>&lt;int&gt;</th><th scope=col>&lt;int&gt;</th><th scope=col>&lt;chr&gt;</th><th scope=col>&lt;chr&gt;</th><th scope=col>&lt;int&gt;</th><th scope=col>&lt;int&gt;</th><th scope=col>&lt;dbl&gt;</th></tr>\n",
              "</thead>\n",
              "<tbody>\n",
              "\t<tr><td> 1</td><td> 2</td><td>ciprofloxacin</td><td>IV</td><td>NA</td><td>NA</td><td>1</td></tr>\n",
              "\t<tr><td> 1</td><td> 4</td><td>ciprofloxacin</td><td>IV</td><td> 2</td><td> 2</td><td>0</td></tr>\n",
              "\t<tr><td> 1</td><td> 6</td><td>ciprofloxacin</td><td>IV</td><td> 4</td><td> 2</td><td>0</td></tr>\n",
              "\t<tr><td> 1</td><td>18</td><td>ciprofloxacin</td><td>IV</td><td> 6</td><td>12</td><td>1</td></tr>\n",
              "\t<tr><td> 1</td><td> 7</td><td>doxycycline  </td><td>IV</td><td>NA</td><td>NA</td><td>1</td></tr>\n",
              "\t<tr><td> 1</td><td> 9</td><td>doxycycline  </td><td>IV</td><td> 7</td><td> 2</td><td>0</td></tr>\n",
              "\t<tr><td> 1</td><td>16</td><td>doxycycline  </td><td>IV</td><td> 9</td><td> 7</td><td>1</td></tr>\n",
              "\t<tr><td> 1</td><td>15</td><td>penicillin   </td><td>IV</td><td>NA</td><td>NA</td><td>1</td></tr>\n",
              "\t<tr><td> 8</td><td> 1</td><td>doxycycline  </td><td>PO</td><td>NA</td><td>NA</td><td>1</td></tr>\n",
              "\t<tr><td> 8</td><td> 3</td><td>doxycycline  </td><td>IV</td><td> 1</td><td> 2</td><td>0</td></tr>\n",
              "\t<tr><td> 8</td><td> 6</td><td>doxycycline  </td><td>PO</td><td> 3</td><td> 3</td><td>1</td></tr>\n",
              "\t<tr><td> 8</td><td> 2</td><td>penicillin   </td><td>IV</td><td>NA</td><td>NA</td><td>1</td></tr>\n",
              "\t<tr><td> 8</td><td> 8</td><td>penicillin   </td><td>PO</td><td> 2</td><td> 6</td><td>1</td></tr>\n",
              "\t<tr><td> 8</td><td>12</td><td>penicillin   </td><td>IV</td><td> 8</td><td> 4</td><td>1</td></tr>\n",
              "\t<tr><td> 9</td><td> 8</td><td>doxycycline  </td><td>IV</td><td>NA</td><td>NA</td><td>1</td></tr>\n",
              "\t<tr><td> 9</td><td>12</td><td>doxycycline  </td><td>PO</td><td> 8</td><td> 4</td><td>1</td></tr>\n",
              "\t<tr><td>12</td><td> 4</td><td>doxycycline  </td><td>PO</td><td>NA</td><td>NA</td><td>1</td></tr>\n",
              "\t<tr><td>12</td><td> 9</td><td>doxycycline  </td><td>IV</td><td> 4</td><td> 5</td><td>1</td></tr>\n",
              "\t<tr><td>16</td><td> 4</td><td>amoxicillin  </td><td>IV</td><td>NA</td><td>NA</td><td>1</td></tr>\n",
              "\t<tr><td>16</td><td> 1</td><td>doxycycline  </td><td>IV</td><td>NA</td><td>NA</td><td>1</td></tr>\n",
              "\t<tr><td>19</td><td> 5</td><td>amoxicillin  </td><td>IV</td><td>NA</td><td>NA</td><td>1</td></tr>\n",
              "\t<tr><td>19</td><td> 6</td><td>ciprofloxacin</td><td>IV</td><td>NA</td><td>NA</td><td>1</td></tr>\n",
              "\t<tr><td>19</td><td> 3</td><td>doxycycline  </td><td>PO</td><td>NA</td><td>NA</td><td>1</td></tr>\n",
              "\t<tr><td>19</td><td>10</td><td>doxycycline  </td><td>IV</td><td> 3</td><td> 7</td><td>1</td></tr>\n",
              "\t<tr><td>19</td><td>12</td><td>penicillin   </td><td>IV</td><td>NA</td><td>NA</td><td>1</td></tr>\n",
              "\t<tr><td>23</td><td> 3</td><td>amoxicillin  </td><td>IV</td><td>NA</td><td>NA</td><td>1</td></tr>\n",
              "\t<tr><td>23</td><td> 8</td><td>amoxicillin  </td><td>IV</td><td> 3</td><td> 5</td><td>1</td></tr>\n",
              "\t<tr><td>23</td><td>10</td><td>amoxicillin  </td><td>PO</td><td> 8</td><td> 2</td><td>0</td></tr>\n",
              "\t<tr><td>23</td><td> 3</td><td>ciprofloxacin</td><td>IV</td><td>NA</td><td>NA</td><td>1</td></tr>\n",
              "\t<tr><td>23</td><td> 5</td><td>ciprofloxacin</td><td>PO</td><td> 3</td><td> 2</td><td>0</td></tr>\n",
              "\t<tr><td>23</td><td>16</td><td>ciprofloxacin</td><td>IV</td><td> 5</td><td>11</td><td>1</td></tr>\n",
              "\t<tr><td>23</td><td> 1</td><td>doxycycline  </td><td>IV</td><td>NA</td><td>NA</td><td>1</td></tr>\n",
              "\t<tr><td>23</td><td> 3</td><td>doxycycline  </td><td>IV</td><td> 1</td><td> 2</td><td>0</td></tr>\n",
              "\t<tr><td>23</td><td> 4</td><td>doxycycline  </td><td>IV</td><td> 3</td><td> 1</td><td>0</td></tr>\n",
              "\t<tr><td>23</td><td> 5</td><td>doxycycline  </td><td>IV</td><td> 4</td><td> 1</td><td>0</td></tr>\n",
              "\t<tr><td>23</td><td> 6</td><td>doxycycline  </td><td>IV</td><td> 5</td><td> 1</td><td>0</td></tr>\n",
              "\t<tr><td>23</td><td> 6</td><td>doxycycline  </td><td>PO</td><td> 6</td><td> 0</td><td>0</td></tr>\n",
              "\t<tr><td>23</td><td> 9</td><td>doxycycline  </td><td>PO</td><td> 6</td><td> 3</td><td>1</td></tr>\n",
              "\t<tr><td>23</td><td>10</td><td>doxycycline  </td><td>IV</td><td> 9</td><td> 1</td><td>0</td></tr>\n",
              "\t<tr><td>23</td><td>11</td><td>doxycycline  </td><td>PO</td><td>10</td><td> 1</td><td>0</td></tr>\n",
              "</tbody>\n",
              "</table>\n"
            ]
          },
          "metadata": {
            "tags": []
          }
        },
        {
          "output_type": "display_data",
          "data": {
            "text/plain": [
              "   patient_id day_given antibiotic_type route last_administration_day\n",
              "1   1          2        ciprofloxacin   IV    NA                     \n",
              "2   1          4        ciprofloxacin   IV     2                     \n",
              "3   1          6        ciprofloxacin   IV     4                     \n",
              "4   1         18        ciprofloxacin   IV     6                     \n",
              "5   1          7        doxycycline     IV    NA                     \n",
              "6   1          9        doxycycline     IV     7                     \n",
              "7   1         16        doxycycline     IV     9                     \n",
              "8   1         15        penicillin      IV    NA                     \n",
              "9   8          1        doxycycline     PO    NA                     \n",
              "10  8          3        doxycycline     IV     1                     \n",
              "11  8          6        doxycycline     PO     3                     \n",
              "12  8          2        penicillin      IV    NA                     \n",
              "13  8          8        penicillin      PO     2                     \n",
              "14  8         12        penicillin      IV     8                     \n",
              "15  9          8        doxycycline     IV    NA                     \n",
              "16  9         12        doxycycline     PO     8                     \n",
              "17 12          4        doxycycline     PO    NA                     \n",
              "18 12          9        doxycycline     IV     4                     \n",
              "19 16          4        amoxicillin     IV    NA                     \n",
              "20 16          1        doxycycline     IV    NA                     \n",
              "21 19          5        amoxicillin     IV    NA                     \n",
              "22 19          6        ciprofloxacin   IV    NA                     \n",
              "23 19          3        doxycycline     PO    NA                     \n",
              "24 19         10        doxycycline     IV     3                     \n",
              "25 19         12        penicillin      IV    NA                     \n",
              "26 23          3        amoxicillin     IV    NA                     \n",
              "27 23          8        amoxicillin     IV     3                     \n",
              "28 23         10        amoxicillin     PO     8                     \n",
              "29 23          3        ciprofloxacin   IV    NA                     \n",
              "30 23          5        ciprofloxacin   PO     3                     \n",
              "31 23         16        ciprofloxacin   IV     5                     \n",
              "32 23          1        doxycycline     IV    NA                     \n",
              "33 23          3        doxycycline     IV     1                     \n",
              "34 23          4        doxycycline     IV     3                     \n",
              "35 23          5        doxycycline     IV     4                     \n",
              "36 23          6        doxycycline     IV     5                     \n",
              "37 23          6        doxycycline     PO     6                     \n",
              "38 23          9        doxycycline     PO     6                     \n",
              "39 23         10        doxycycline     IV     9                     \n",
              "40 23         11        doxycycline     PO    10                     \n",
              "   days_since_last_admin antibiotic_new\n",
              "1  NA                    1             \n",
              "2   2                    0             \n",
              "3   2                    0             \n",
              "4  12                    1             \n",
              "5  NA                    1             \n",
              "6   2                    0             \n",
              "7   7                    1             \n",
              "8  NA                    1             \n",
              "9  NA                    1             \n",
              "10  2                    0             \n",
              "11  3                    1             \n",
              "12 NA                    1             \n",
              "13  6                    1             \n",
              "14  4                    1             \n",
              "15 NA                    1             \n",
              "16  4                    1             \n",
              "17 NA                    1             \n",
              "18  5                    1             \n",
              "19 NA                    1             \n",
              "20 NA                    1             \n",
              "21 NA                    1             \n",
              "22 NA                    1             \n",
              "23 NA                    1             \n",
              "24  7                    1             \n",
              "25 NA                    1             \n",
              "26 NA                    1             \n",
              "27  5                    1             \n",
              "28  2                    0             \n",
              "29 NA                    1             \n",
              "30  2                    0             \n",
              "31 11                    1             \n",
              "32 NA                    1             \n",
              "33  2                    0             \n",
              "34  1                    0             \n",
              "35  1                    0             \n",
              "36  1                    0             \n",
              "37  0                    0             \n",
              "38  3                    1             \n",
              "39  1                    0             \n",
              "40  1                    0             "
            ],
            "text/latex": "A data.table: 40 × 7\n\\begin{tabular}{lllllll}\n patient\\_id & day\\_given & antibiotic\\_type & route & last\\_administration\\_day & days\\_since\\_last\\_admin & antibiotic\\_new\\\\\n <int> & <int> & <chr> & <chr> & <int> & <int> & <dbl>\\\\\n\\hline\n\t  1 &  2 & ciprofloxacin & IV & NA & NA & 1\\\\\n\t  1 &  4 & ciprofloxacin & IV &  2 &  2 & 0\\\\\n\t  1 &  6 & ciprofloxacin & IV &  4 &  2 & 0\\\\\n\t  1 & 18 & ciprofloxacin & IV &  6 & 12 & 1\\\\\n\t  1 &  7 & doxycycline   & IV & NA & NA & 1\\\\\n\t  1 &  9 & doxycycline   & IV &  7 &  2 & 0\\\\\n\t  1 & 16 & doxycycline   & IV &  9 &  7 & 1\\\\\n\t  1 & 15 & penicillin    & IV & NA & NA & 1\\\\\n\t  8 &  1 & doxycycline   & PO & NA & NA & 1\\\\\n\t  8 &  3 & doxycycline   & IV &  1 &  2 & 0\\\\\n\t  8 &  6 & doxycycline   & PO &  3 &  3 & 1\\\\\n\t  8 &  2 & penicillin    & IV & NA & NA & 1\\\\\n\t  8 &  8 & penicillin    & PO &  2 &  6 & 1\\\\\n\t  8 & 12 & penicillin    & IV &  8 &  4 & 1\\\\\n\t  9 &  8 & doxycycline   & IV & NA & NA & 1\\\\\n\t  9 & 12 & doxycycline   & PO &  8 &  4 & 1\\\\\n\t 12 &  4 & doxycycline   & PO & NA & NA & 1\\\\\n\t 12 &  9 & doxycycline   & IV &  4 &  5 & 1\\\\\n\t 16 &  4 & amoxicillin   & IV & NA & NA & 1\\\\\n\t 16 &  1 & doxycycline   & IV & NA & NA & 1\\\\\n\t 19 &  5 & amoxicillin   & IV & NA & NA & 1\\\\\n\t 19 &  6 & ciprofloxacin & IV & NA & NA & 1\\\\\n\t 19 &  3 & doxycycline   & PO & NA & NA & 1\\\\\n\t 19 & 10 & doxycycline   & IV &  3 &  7 & 1\\\\\n\t 19 & 12 & penicillin    & IV & NA & NA & 1\\\\\n\t 23 &  3 & amoxicillin   & IV & NA & NA & 1\\\\\n\t 23 &  8 & amoxicillin   & IV &  3 &  5 & 1\\\\\n\t 23 & 10 & amoxicillin   & PO &  8 &  2 & 0\\\\\n\t 23 &  3 & ciprofloxacin & IV & NA & NA & 1\\\\\n\t 23 &  5 & ciprofloxacin & PO &  3 &  2 & 0\\\\\n\t 23 & 16 & ciprofloxacin & IV &  5 & 11 & 1\\\\\n\t 23 &  1 & doxycycline   & IV & NA & NA & 1\\\\\n\t 23 &  3 & doxycycline   & IV &  1 &  2 & 0\\\\\n\t 23 &  4 & doxycycline   & IV &  3 &  1 & 0\\\\\n\t 23 &  5 & doxycycline   & IV &  4 &  1 & 0\\\\\n\t 23 &  6 & doxycycline   & IV &  5 &  1 & 0\\\\\n\t 23 &  6 & doxycycline   & PO &  6 &  0 & 0\\\\\n\t 23 &  9 & doxycycline   & PO &  6 &  3 & 1\\\\\n\t 23 & 10 & doxycycline   & IV &  9 &  1 & 0\\\\\n\t 23 & 11 & doxycycline   & PO & 10 &  1 & 0\\\\\n\\end{tabular}\n",
            "text/markdown": "\nA data.table: 40 × 7\n\n| patient_id &lt;int&gt; | day_given &lt;int&gt; | antibiotic_type &lt;chr&gt; | route &lt;chr&gt; | last_administration_day &lt;int&gt; | days_since_last_admin &lt;int&gt; | antibiotic_new &lt;dbl&gt; |\n|---|---|---|---|---|---|---|\n|  1 |  2 | ciprofloxacin | IV | NA | NA | 1 |\n|  1 |  4 | ciprofloxacin | IV |  2 |  2 | 0 |\n|  1 |  6 | ciprofloxacin | IV |  4 |  2 | 0 |\n|  1 | 18 | ciprofloxacin | IV |  6 | 12 | 1 |\n|  1 |  7 | doxycycline   | IV | NA | NA | 1 |\n|  1 |  9 | doxycycline   | IV |  7 |  2 | 0 |\n|  1 | 16 | doxycycline   | IV |  9 |  7 | 1 |\n|  1 | 15 | penicillin    | IV | NA | NA | 1 |\n|  8 |  1 | doxycycline   | PO | NA | NA | 1 |\n|  8 |  3 | doxycycline   | IV |  1 |  2 | 0 |\n|  8 |  6 | doxycycline   | PO |  3 |  3 | 1 |\n|  8 |  2 | penicillin    | IV | NA | NA | 1 |\n|  8 |  8 | penicillin    | PO |  2 |  6 | 1 |\n|  8 | 12 | penicillin    | IV |  8 |  4 | 1 |\n|  9 |  8 | doxycycline   | IV | NA | NA | 1 |\n|  9 | 12 | doxycycline   | PO |  8 |  4 | 1 |\n| 12 |  4 | doxycycline   | PO | NA | NA | 1 |\n| 12 |  9 | doxycycline   | IV |  4 |  5 | 1 |\n| 16 |  4 | amoxicillin   | IV | NA | NA | 1 |\n| 16 |  1 | doxycycline   | IV | NA | NA | 1 |\n| 19 |  5 | amoxicillin   | IV | NA | NA | 1 |\n| 19 |  6 | ciprofloxacin | IV | NA | NA | 1 |\n| 19 |  3 | doxycycline   | PO | NA | NA | 1 |\n| 19 | 10 | doxycycline   | IV |  3 |  7 | 1 |\n| 19 | 12 | penicillin    | IV | NA | NA | 1 |\n| 23 |  3 | amoxicillin   | IV | NA | NA | 1 |\n| 23 |  8 | amoxicillin   | IV |  3 |  5 | 1 |\n| 23 | 10 | amoxicillin   | PO |  8 |  2 | 0 |\n| 23 |  3 | ciprofloxacin | IV | NA | NA | 1 |\n| 23 |  5 | ciprofloxacin | PO |  3 |  2 | 0 |\n| 23 | 16 | ciprofloxacin | IV |  5 | 11 | 1 |\n| 23 |  1 | doxycycline   | IV | NA | NA | 1 |\n| 23 |  3 | doxycycline   | IV |  1 |  2 | 0 |\n| 23 |  4 | doxycycline   | IV |  3 |  1 | 0 |\n| 23 |  5 | doxycycline   | IV |  4 |  1 | 0 |\n| 23 |  6 | doxycycline   | IV |  5 |  1 | 0 |\n| 23 |  6 | doxycycline   | PO |  6 |  0 | 0 |\n| 23 |  9 | doxycycline   | PO |  6 |  3 | 1 |\n| 23 | 10 | doxycycline   | IV |  9 |  1 | 0 |\n| 23 | 11 | doxycycline   | PO | 10 |  1 | 0 |\n\n",
            "text/html": [
              "<table>\n",
              "<caption>A data.table: 40 × 7</caption>\n",
              "<thead>\n",
              "\t<tr><th scope=col>patient_id</th><th scope=col>day_given</th><th scope=col>antibiotic_type</th><th scope=col>route</th><th scope=col>last_administration_day</th><th scope=col>days_since_last_admin</th><th scope=col>antibiotic_new</th></tr>\n",
              "\t<tr><th scope=col>&lt;int&gt;</th><th scope=col>&lt;int&gt;</th><th scope=col>&lt;chr&gt;</th><th scope=col>&lt;chr&gt;</th><th scope=col>&lt;int&gt;</th><th scope=col>&lt;int&gt;</th><th scope=col>&lt;dbl&gt;</th></tr>\n",
              "</thead>\n",
              "<tbody>\n",
              "\t<tr><td> 1</td><td> 2</td><td>ciprofloxacin</td><td>IV</td><td>NA</td><td>NA</td><td>1</td></tr>\n",
              "\t<tr><td> 1</td><td> 4</td><td>ciprofloxacin</td><td>IV</td><td> 2</td><td> 2</td><td>0</td></tr>\n",
              "\t<tr><td> 1</td><td> 6</td><td>ciprofloxacin</td><td>IV</td><td> 4</td><td> 2</td><td>0</td></tr>\n",
              "\t<tr><td> 1</td><td>18</td><td>ciprofloxacin</td><td>IV</td><td> 6</td><td>12</td><td>1</td></tr>\n",
              "\t<tr><td> 1</td><td> 7</td><td>doxycycline  </td><td>IV</td><td>NA</td><td>NA</td><td>1</td></tr>\n",
              "\t<tr><td> 1</td><td> 9</td><td>doxycycline  </td><td>IV</td><td> 7</td><td> 2</td><td>0</td></tr>\n",
              "\t<tr><td> 1</td><td>16</td><td>doxycycline  </td><td>IV</td><td> 9</td><td> 7</td><td>1</td></tr>\n",
              "\t<tr><td> 1</td><td>15</td><td>penicillin   </td><td>IV</td><td>NA</td><td>NA</td><td>1</td></tr>\n",
              "\t<tr><td> 8</td><td> 1</td><td>doxycycline  </td><td>PO</td><td>NA</td><td>NA</td><td>1</td></tr>\n",
              "\t<tr><td> 8</td><td> 3</td><td>doxycycline  </td><td>IV</td><td> 1</td><td> 2</td><td>0</td></tr>\n",
              "\t<tr><td> 8</td><td> 6</td><td>doxycycline  </td><td>PO</td><td> 3</td><td> 3</td><td>1</td></tr>\n",
              "\t<tr><td> 8</td><td> 2</td><td>penicillin   </td><td>IV</td><td>NA</td><td>NA</td><td>1</td></tr>\n",
              "\t<tr><td> 8</td><td> 8</td><td>penicillin   </td><td>PO</td><td> 2</td><td> 6</td><td>1</td></tr>\n",
              "\t<tr><td> 8</td><td>12</td><td>penicillin   </td><td>IV</td><td> 8</td><td> 4</td><td>1</td></tr>\n",
              "\t<tr><td> 9</td><td> 8</td><td>doxycycline  </td><td>IV</td><td>NA</td><td>NA</td><td>1</td></tr>\n",
              "\t<tr><td> 9</td><td>12</td><td>doxycycline  </td><td>PO</td><td> 8</td><td> 4</td><td>1</td></tr>\n",
              "\t<tr><td>12</td><td> 4</td><td>doxycycline  </td><td>PO</td><td>NA</td><td>NA</td><td>1</td></tr>\n",
              "\t<tr><td>12</td><td> 9</td><td>doxycycline  </td><td>IV</td><td> 4</td><td> 5</td><td>1</td></tr>\n",
              "\t<tr><td>16</td><td> 4</td><td>amoxicillin  </td><td>IV</td><td>NA</td><td>NA</td><td>1</td></tr>\n",
              "\t<tr><td>16</td><td> 1</td><td>doxycycline  </td><td>IV</td><td>NA</td><td>NA</td><td>1</td></tr>\n",
              "\t<tr><td>19</td><td> 5</td><td>amoxicillin  </td><td>IV</td><td>NA</td><td>NA</td><td>1</td></tr>\n",
              "\t<tr><td>19</td><td> 6</td><td>ciprofloxacin</td><td>IV</td><td>NA</td><td>NA</td><td>1</td></tr>\n",
              "\t<tr><td>19</td><td> 3</td><td>doxycycline  </td><td>PO</td><td>NA</td><td>NA</td><td>1</td></tr>\n",
              "\t<tr><td>19</td><td>10</td><td>doxycycline  </td><td>IV</td><td> 3</td><td> 7</td><td>1</td></tr>\n",
              "\t<tr><td>19</td><td>12</td><td>penicillin   </td><td>IV</td><td>NA</td><td>NA</td><td>1</td></tr>\n",
              "\t<tr><td>23</td><td> 3</td><td>amoxicillin  </td><td>IV</td><td>NA</td><td>NA</td><td>1</td></tr>\n",
              "\t<tr><td>23</td><td> 8</td><td>amoxicillin  </td><td>IV</td><td> 3</td><td> 5</td><td>1</td></tr>\n",
              "\t<tr><td>23</td><td>10</td><td>amoxicillin  </td><td>PO</td><td> 8</td><td> 2</td><td>0</td></tr>\n",
              "\t<tr><td>23</td><td> 3</td><td>ciprofloxacin</td><td>IV</td><td>NA</td><td>NA</td><td>1</td></tr>\n",
              "\t<tr><td>23</td><td> 5</td><td>ciprofloxacin</td><td>PO</td><td> 3</td><td> 2</td><td>0</td></tr>\n",
              "\t<tr><td>23</td><td>16</td><td>ciprofloxacin</td><td>IV</td><td> 5</td><td>11</td><td>1</td></tr>\n",
              "\t<tr><td>23</td><td> 1</td><td>doxycycline  </td><td>IV</td><td>NA</td><td>NA</td><td>1</td></tr>\n",
              "\t<tr><td>23</td><td> 3</td><td>doxycycline  </td><td>IV</td><td> 1</td><td> 2</td><td>0</td></tr>\n",
              "\t<tr><td>23</td><td> 4</td><td>doxycycline  </td><td>IV</td><td> 3</td><td> 1</td><td>0</td></tr>\n",
              "\t<tr><td>23</td><td> 5</td><td>doxycycline  </td><td>IV</td><td> 4</td><td> 1</td><td>0</td></tr>\n",
              "\t<tr><td>23</td><td> 6</td><td>doxycycline  </td><td>IV</td><td> 5</td><td> 1</td><td>0</td></tr>\n",
              "\t<tr><td>23</td><td> 6</td><td>doxycycline  </td><td>PO</td><td> 6</td><td> 0</td><td>0</td></tr>\n",
              "\t<tr><td>23</td><td> 9</td><td>doxycycline  </td><td>PO</td><td> 6</td><td> 3</td><td>1</td></tr>\n",
              "\t<tr><td>23</td><td>10</td><td>doxycycline  </td><td>IV</td><td> 9</td><td> 1</td><td>0</td></tr>\n",
              "\t<tr><td>23</td><td>11</td><td>doxycycline  </td><td>PO</td><td>10</td><td> 1</td><td>0</td></tr>\n",
              "</tbody>\n",
              "</table>\n"
            ]
          },
          "metadata": {
            "tags": []
          }
        }
      ]
    },
    {
      "cell_type": "markdown",
      "metadata": {
        "dc": {
          "key": "18"
        },
        "deletable": false,
        "editable": false,
        "run_control": {
          "frozen": true
        },
        "tags": [
          "context"
        ],
        "id": "-xSs3L-ikmSl",
        "colab_type": "text"
      },
      "source": [
        "## 3. Looking at the blood culture data\n",
        "<p>Now let's look at blood culture data from the same two-week period in this hospital. These data are in <code>blood_cultureDT.csv</code>. Let's start by reading it into the workspace and having a look at a few rows. </p>\n",
        "<p>Each row represents one blood culture and gives the patient's id and the day the blood culture test occurred. For example, patient \"8\" had a blood culture on the second day of their hospitalization and again on the thirteenth day. Notice that some patients from the antibiotic dataset are not in this dataset and vice versa. Some patients are in neither because they received neither antibiotics nor a blood culture.</p>"
      ]
    },
    {
      "cell_type": "code",
      "metadata": {
        "dc": {
          "key": "18"
        },
        "tags": [
          "sample_code"
        ],
        "trusted": false,
        "id": "QjoC-HKPkmSm",
        "colab_type": "code",
        "colab": {
          "base_uri": "https://localhost:8080/",
          "height": 595
        },
        "outputId": "5fbc06fe-90a6-478f-8848-0d5922c22401"
      },
      "source": [
        "# Read in blood_cultureDT.csv\n",
        "blood_cultureDT <- fread(\"/media/blood_cultureDT.csv\")\n",
        "\n",
        "# Print the first 30 rows\n",
        "blood_cultureDT[1:30]"
      ],
      "execution_count": 9,
      "outputs": [
        {
          "output_type": "display_data",
          "data": {
            "text/plain": [
              "   patient_id blood_culture_day\n",
              "1    1         3               \n",
              "2    1        13               \n",
              "3    8         2               \n",
              "4    8        13               \n",
              "5   23         3               \n",
              "6   39        10               \n",
              "7   45         4               \n",
              "8   45         9               \n",
              "9   45        11               \n",
              "10  51         3               \n",
              "11  51         6               \n",
              "12  59         2               \n",
              "13  64         1               \n",
              "14  66         9               \n",
              "15  66        10               \n",
              "16  69         2               \n",
              "17  69         6               \n",
              "18  69         7               \n",
              "19  69        11               \n",
              "20  69        16               \n",
              "21  76         1               \n",
              "22  77         3               \n",
              "23  79         5               \n",
              "24  79        11               \n",
              "25  79        12               \n",
              "26  80         3               \n",
              "27  80        12               \n",
              "28  81         2               \n",
              "29 112         6               \n",
              "30 115         2               "
            ],
            "text/latex": "A data.table: 30 × 2\n\\begin{tabular}{ll}\n patient\\_id & blood\\_culture\\_day\\\\\n <int> & <int>\\\\\n\\hline\n\t   1 &  3\\\\\n\t   1 & 13\\\\\n\t   8 &  2\\\\\n\t   8 & 13\\\\\n\t  23 &  3\\\\\n\t  39 & 10\\\\\n\t  45 &  4\\\\\n\t  45 &  9\\\\\n\t  45 & 11\\\\\n\t  51 &  3\\\\\n\t  51 &  6\\\\\n\t  59 &  2\\\\\n\t  64 &  1\\\\\n\t  66 &  9\\\\\n\t  66 & 10\\\\\n\t  69 &  2\\\\\n\t  69 &  6\\\\\n\t  69 &  7\\\\\n\t  69 & 11\\\\\n\t  69 & 16\\\\\n\t  76 &  1\\\\\n\t  77 &  3\\\\\n\t  79 &  5\\\\\n\t  79 & 11\\\\\n\t  79 & 12\\\\\n\t  80 &  3\\\\\n\t  80 & 12\\\\\n\t  81 &  2\\\\\n\t 112 &  6\\\\\n\t 115 &  2\\\\\n\\end{tabular}\n",
            "text/markdown": "\nA data.table: 30 × 2\n\n| patient_id &lt;int&gt; | blood_culture_day &lt;int&gt; |\n|---|---|\n|   1 |  3 |\n|   1 | 13 |\n|   8 |  2 |\n|   8 | 13 |\n|  23 |  3 |\n|  39 | 10 |\n|  45 |  4 |\n|  45 |  9 |\n|  45 | 11 |\n|  51 |  3 |\n|  51 |  6 |\n|  59 |  2 |\n|  64 |  1 |\n|  66 |  9 |\n|  66 | 10 |\n|  69 |  2 |\n|  69 |  6 |\n|  69 |  7 |\n|  69 | 11 |\n|  69 | 16 |\n|  76 |  1 |\n|  77 |  3 |\n|  79 |  5 |\n|  79 | 11 |\n|  79 | 12 |\n|  80 |  3 |\n|  80 | 12 |\n|  81 |  2 |\n| 112 |  6 |\n| 115 |  2 |\n\n",
            "text/html": [
              "<table>\n",
              "<caption>A data.table: 30 × 2</caption>\n",
              "<thead>\n",
              "\t<tr><th scope=col>patient_id</th><th scope=col>blood_culture_day</th></tr>\n",
              "\t<tr><th scope=col>&lt;int&gt;</th><th scope=col>&lt;int&gt;</th></tr>\n",
              "</thead>\n",
              "<tbody>\n",
              "\t<tr><td>  1</td><td> 3</td></tr>\n",
              "\t<tr><td>  1</td><td>13</td></tr>\n",
              "\t<tr><td>  8</td><td> 2</td></tr>\n",
              "\t<tr><td>  8</td><td>13</td></tr>\n",
              "\t<tr><td> 23</td><td> 3</td></tr>\n",
              "\t<tr><td> 39</td><td>10</td></tr>\n",
              "\t<tr><td> 45</td><td> 4</td></tr>\n",
              "\t<tr><td> 45</td><td> 9</td></tr>\n",
              "\t<tr><td> 45</td><td>11</td></tr>\n",
              "\t<tr><td> 51</td><td> 3</td></tr>\n",
              "\t<tr><td> 51</td><td> 6</td></tr>\n",
              "\t<tr><td> 59</td><td> 2</td></tr>\n",
              "\t<tr><td> 64</td><td> 1</td></tr>\n",
              "\t<tr><td> 66</td><td> 9</td></tr>\n",
              "\t<tr><td> 66</td><td>10</td></tr>\n",
              "\t<tr><td> 69</td><td> 2</td></tr>\n",
              "\t<tr><td> 69</td><td> 6</td></tr>\n",
              "\t<tr><td> 69</td><td> 7</td></tr>\n",
              "\t<tr><td> 69</td><td>11</td></tr>\n",
              "\t<tr><td> 69</td><td>16</td></tr>\n",
              "\t<tr><td> 76</td><td> 1</td></tr>\n",
              "\t<tr><td> 77</td><td> 3</td></tr>\n",
              "\t<tr><td> 79</td><td> 5</td></tr>\n",
              "\t<tr><td> 79</td><td>11</td></tr>\n",
              "\t<tr><td> 79</td><td>12</td></tr>\n",
              "\t<tr><td> 80</td><td> 3</td></tr>\n",
              "\t<tr><td> 80</td><td>12</td></tr>\n",
              "\t<tr><td> 81</td><td> 2</td></tr>\n",
              "\t<tr><td>112</td><td> 6</td></tr>\n",
              "\t<tr><td>115</td><td> 2</td></tr>\n",
              "</tbody>\n",
              "</table>\n"
            ]
          },
          "metadata": {
            "tags": []
          }
        }
      ]
    },
    {
      "cell_type": "markdown",
      "metadata": {
        "dc": {
          "key": "25"
        },
        "deletable": false,
        "editable": false,
        "run_control": {
          "frozen": true
        },
        "tags": [
          "context"
        ],
        "id": "Yu44z9YykmSq",
        "colab_type": "text"
      },
      "source": [
        "## 4. Combine the antibiotic data and the blood culture data\n",
        "<p>To find which antibiotics were given close to a blood culture test, we need to combine the drug administration data with the blood culture data. We'll keep only patients that are still candidates for infection&mdash;only those in both data sets.</p>\n",
        "<p>A challenge with the data is that some patients had blood cultures on several different days. For each of those days, we will see if there is a sequence of antibiotic days close to them. To accomplish this, in the merge we will match each blood culture to each antibiotic day.</p>\n",
        "<p>After sorting the data following the merge, you will see that each patient's antibiotic sequence repeats for each blood culture day. This repetition allows us to look at each blood culture day and check if it is associated with a qualifying sequence of antibiotics.</p>"
      ]
    },
    {
      "cell_type": "code",
      "metadata": {
        "dc": {
          "key": "25"
        },
        "tags": [
          "sample_code"
        ],
        "trusted": false,
        "id": "-e8n2J88kmSr",
        "colab_type": "code",
        "colab": {
          "base_uri": "https://localhost:8080/",
          "height": 595
        },
        "outputId": "08fc5b87-39ea-4384-fa44-0cb038d13a3d"
      },
      "source": [
        "# Merge antibioticDT with blood_cultureDT\n",
        "combinedDT <- merge(antibioticDT, blood_cultureDT, by = \"patient_id\", all = FALSE)\n",
        "\n",
        "# Sort by patient_id, blood_culture_day, day_given, and antibiotic_type\n",
        "setorder(combinedDT, patient_id, blood_culture_day, day_given, antibiotic_type)\n",
        "\n",
        "# Print and examine the first 30 rows\n",
        "combinedDT[1:30]"
      ],
      "execution_count": 10,
      "outputs": [
        {
          "output_type": "display_data",
          "data": {
            "text/plain": [
              "   patient_id day_given antibiotic_type route last_administration_day\n",
              "1   1          2        ciprofloxacin   IV    NA                     \n",
              "2   1          4        ciprofloxacin   IV     2                     \n",
              "3   1          6        ciprofloxacin   IV     4                     \n",
              "4   1          7        doxycycline     IV    NA                     \n",
              "5   1          9        doxycycline     IV     7                     \n",
              "6   1         15        penicillin      IV    NA                     \n",
              "7   1         16        doxycycline     IV     9                     \n",
              "8   1         18        ciprofloxacin   IV     6                     \n",
              "9   1          2        ciprofloxacin   IV    NA                     \n",
              "10  1          4        ciprofloxacin   IV     2                     \n",
              "11  1          6        ciprofloxacin   IV     4                     \n",
              "12  1          7        doxycycline     IV    NA                     \n",
              "13  1          9        doxycycline     IV     7                     \n",
              "14  1         15        penicillin      IV    NA                     \n",
              "15  1         16        doxycycline     IV     9                     \n",
              "16  1         18        ciprofloxacin   IV     6                     \n",
              "17  8          1        doxycycline     PO    NA                     \n",
              "18  8          2        penicillin      IV    NA                     \n",
              "19  8          3        doxycycline     IV     1                     \n",
              "20  8          6        doxycycline     PO     3                     \n",
              "21  8          8        penicillin      PO     2                     \n",
              "22  8         12        penicillin      IV     8                     \n",
              "23  8          1        doxycycline     PO    NA                     \n",
              "24  8          2        penicillin      IV    NA                     \n",
              "25  8          3        doxycycline     IV     1                     \n",
              "26  8          6        doxycycline     PO     3                     \n",
              "27  8          8        penicillin      PO     2                     \n",
              "28  8         12        penicillin      IV     8                     \n",
              "29 23          1        doxycycline     IV    NA                     \n",
              "30 23          1        penicillin      IV    NA                     \n",
              "   days_since_last_admin antibiotic_new blood_culture_day\n",
              "1  NA                    1               3               \n",
              "2   2                    0               3               \n",
              "3   2                    0               3               \n",
              "4  NA                    1               3               \n",
              "5   2                    0               3               \n",
              "6  NA                    1               3               \n",
              "7   7                    1               3               \n",
              "8  12                    1               3               \n",
              "9  NA                    1              13               \n",
              "10  2                    0              13               \n",
              "11  2                    0              13               \n",
              "12 NA                    1              13               \n",
              "13  2                    0              13               \n",
              "14 NA                    1              13               \n",
              "15  7                    1              13               \n",
              "16 12                    1              13               \n",
              "17 NA                    1               2               \n",
              "18 NA                    1               2               \n",
              "19  2                    0               2               \n",
              "20  3                    1               2               \n",
              "21  6                    1               2               \n",
              "22  4                    1               2               \n",
              "23 NA                    1              13               \n",
              "24 NA                    1              13               \n",
              "25  2                    0              13               \n",
              "26  3                    1              13               \n",
              "27  6                    1              13               \n",
              "28  4                    1              13               \n",
              "29 NA                    1               3               \n",
              "30 NA                    1               3               "
            ],
            "text/latex": "A data.table: 30 × 8\n\\begin{tabular}{llllllll}\n patient\\_id & day\\_given & antibiotic\\_type & route & last\\_administration\\_day & days\\_since\\_last\\_admin & antibiotic\\_new & blood\\_culture\\_day\\\\\n <int> & <int> & <chr> & <chr> & <int> & <int> & <dbl> & <int>\\\\\n\\hline\n\t  1 &  2 & ciprofloxacin & IV & NA & NA & 1 &  3\\\\\n\t  1 &  4 & ciprofloxacin & IV &  2 &  2 & 0 &  3\\\\\n\t  1 &  6 & ciprofloxacin & IV &  4 &  2 & 0 &  3\\\\\n\t  1 &  7 & doxycycline   & IV & NA & NA & 1 &  3\\\\\n\t  1 &  9 & doxycycline   & IV &  7 &  2 & 0 &  3\\\\\n\t  1 & 15 & penicillin    & IV & NA & NA & 1 &  3\\\\\n\t  1 & 16 & doxycycline   & IV &  9 &  7 & 1 &  3\\\\\n\t  1 & 18 & ciprofloxacin & IV &  6 & 12 & 1 &  3\\\\\n\t  1 &  2 & ciprofloxacin & IV & NA & NA & 1 & 13\\\\\n\t  1 &  4 & ciprofloxacin & IV &  2 &  2 & 0 & 13\\\\\n\t  1 &  6 & ciprofloxacin & IV &  4 &  2 & 0 & 13\\\\\n\t  1 &  7 & doxycycline   & IV & NA & NA & 1 & 13\\\\\n\t  1 &  9 & doxycycline   & IV &  7 &  2 & 0 & 13\\\\\n\t  1 & 15 & penicillin    & IV & NA & NA & 1 & 13\\\\\n\t  1 & 16 & doxycycline   & IV &  9 &  7 & 1 & 13\\\\\n\t  1 & 18 & ciprofloxacin & IV &  6 & 12 & 1 & 13\\\\\n\t  8 &  1 & doxycycline   & PO & NA & NA & 1 &  2\\\\\n\t  8 &  2 & penicillin    & IV & NA & NA & 1 &  2\\\\\n\t  8 &  3 & doxycycline   & IV &  1 &  2 & 0 &  2\\\\\n\t  8 &  6 & doxycycline   & PO &  3 &  3 & 1 &  2\\\\\n\t  8 &  8 & penicillin    & PO &  2 &  6 & 1 &  2\\\\\n\t  8 & 12 & penicillin    & IV &  8 &  4 & 1 &  2\\\\\n\t  8 &  1 & doxycycline   & PO & NA & NA & 1 & 13\\\\\n\t  8 &  2 & penicillin    & IV & NA & NA & 1 & 13\\\\\n\t  8 &  3 & doxycycline   & IV &  1 &  2 & 0 & 13\\\\\n\t  8 &  6 & doxycycline   & PO &  3 &  3 & 1 & 13\\\\\n\t  8 &  8 & penicillin    & PO &  2 &  6 & 1 & 13\\\\\n\t  8 & 12 & penicillin    & IV &  8 &  4 & 1 & 13\\\\\n\t 23 &  1 & doxycycline   & IV & NA & NA & 1 &  3\\\\\n\t 23 &  1 & penicillin    & IV & NA & NA & 1 &  3\\\\\n\\end{tabular}\n",
            "text/markdown": "\nA data.table: 30 × 8\n\n| patient_id &lt;int&gt; | day_given &lt;int&gt; | antibiotic_type &lt;chr&gt; | route &lt;chr&gt; | last_administration_day &lt;int&gt; | days_since_last_admin &lt;int&gt; | antibiotic_new &lt;dbl&gt; | blood_culture_day &lt;int&gt; |\n|---|---|---|---|---|---|---|---|\n|  1 |  2 | ciprofloxacin | IV | NA | NA | 1 |  3 |\n|  1 |  4 | ciprofloxacin | IV |  2 |  2 | 0 |  3 |\n|  1 |  6 | ciprofloxacin | IV |  4 |  2 | 0 |  3 |\n|  1 |  7 | doxycycline   | IV | NA | NA | 1 |  3 |\n|  1 |  9 | doxycycline   | IV |  7 |  2 | 0 |  3 |\n|  1 | 15 | penicillin    | IV | NA | NA | 1 |  3 |\n|  1 | 16 | doxycycline   | IV |  9 |  7 | 1 |  3 |\n|  1 | 18 | ciprofloxacin | IV |  6 | 12 | 1 |  3 |\n|  1 |  2 | ciprofloxacin | IV | NA | NA | 1 | 13 |\n|  1 |  4 | ciprofloxacin | IV |  2 |  2 | 0 | 13 |\n|  1 |  6 | ciprofloxacin | IV |  4 |  2 | 0 | 13 |\n|  1 |  7 | doxycycline   | IV | NA | NA | 1 | 13 |\n|  1 |  9 | doxycycline   | IV |  7 |  2 | 0 | 13 |\n|  1 | 15 | penicillin    | IV | NA | NA | 1 | 13 |\n|  1 | 16 | doxycycline   | IV |  9 |  7 | 1 | 13 |\n|  1 | 18 | ciprofloxacin | IV |  6 | 12 | 1 | 13 |\n|  8 |  1 | doxycycline   | PO | NA | NA | 1 |  2 |\n|  8 |  2 | penicillin    | IV | NA | NA | 1 |  2 |\n|  8 |  3 | doxycycline   | IV |  1 |  2 | 0 |  2 |\n|  8 |  6 | doxycycline   | PO |  3 |  3 | 1 |  2 |\n|  8 |  8 | penicillin    | PO |  2 |  6 | 1 |  2 |\n|  8 | 12 | penicillin    | IV |  8 |  4 | 1 |  2 |\n|  8 |  1 | doxycycline   | PO | NA | NA | 1 | 13 |\n|  8 |  2 | penicillin    | IV | NA | NA | 1 | 13 |\n|  8 |  3 | doxycycline   | IV |  1 |  2 | 0 | 13 |\n|  8 |  6 | doxycycline   | PO |  3 |  3 | 1 | 13 |\n|  8 |  8 | penicillin    | PO |  2 |  6 | 1 | 13 |\n|  8 | 12 | penicillin    | IV |  8 |  4 | 1 | 13 |\n| 23 |  1 | doxycycline   | IV | NA | NA | 1 |  3 |\n| 23 |  1 | penicillin    | IV | NA | NA | 1 |  3 |\n\n",
            "text/html": [
              "<table>\n",
              "<caption>A data.table: 30 × 8</caption>\n",
              "<thead>\n",
              "\t<tr><th scope=col>patient_id</th><th scope=col>day_given</th><th scope=col>antibiotic_type</th><th scope=col>route</th><th scope=col>last_administration_day</th><th scope=col>days_since_last_admin</th><th scope=col>antibiotic_new</th><th scope=col>blood_culture_day</th></tr>\n",
              "\t<tr><th scope=col>&lt;int&gt;</th><th scope=col>&lt;int&gt;</th><th scope=col>&lt;chr&gt;</th><th scope=col>&lt;chr&gt;</th><th scope=col>&lt;int&gt;</th><th scope=col>&lt;int&gt;</th><th scope=col>&lt;dbl&gt;</th><th scope=col>&lt;int&gt;</th></tr>\n",
              "</thead>\n",
              "<tbody>\n",
              "\t<tr><td> 1</td><td> 2</td><td>ciprofloxacin</td><td>IV</td><td>NA</td><td>NA</td><td>1</td><td> 3</td></tr>\n",
              "\t<tr><td> 1</td><td> 4</td><td>ciprofloxacin</td><td>IV</td><td> 2</td><td> 2</td><td>0</td><td> 3</td></tr>\n",
              "\t<tr><td> 1</td><td> 6</td><td>ciprofloxacin</td><td>IV</td><td> 4</td><td> 2</td><td>0</td><td> 3</td></tr>\n",
              "\t<tr><td> 1</td><td> 7</td><td>doxycycline  </td><td>IV</td><td>NA</td><td>NA</td><td>1</td><td> 3</td></tr>\n",
              "\t<tr><td> 1</td><td> 9</td><td>doxycycline  </td><td>IV</td><td> 7</td><td> 2</td><td>0</td><td> 3</td></tr>\n",
              "\t<tr><td> 1</td><td>15</td><td>penicillin   </td><td>IV</td><td>NA</td><td>NA</td><td>1</td><td> 3</td></tr>\n",
              "\t<tr><td> 1</td><td>16</td><td>doxycycline  </td><td>IV</td><td> 9</td><td> 7</td><td>1</td><td> 3</td></tr>\n",
              "\t<tr><td> 1</td><td>18</td><td>ciprofloxacin</td><td>IV</td><td> 6</td><td>12</td><td>1</td><td> 3</td></tr>\n",
              "\t<tr><td> 1</td><td> 2</td><td>ciprofloxacin</td><td>IV</td><td>NA</td><td>NA</td><td>1</td><td>13</td></tr>\n",
              "\t<tr><td> 1</td><td> 4</td><td>ciprofloxacin</td><td>IV</td><td> 2</td><td> 2</td><td>0</td><td>13</td></tr>\n",
              "\t<tr><td> 1</td><td> 6</td><td>ciprofloxacin</td><td>IV</td><td> 4</td><td> 2</td><td>0</td><td>13</td></tr>\n",
              "\t<tr><td> 1</td><td> 7</td><td>doxycycline  </td><td>IV</td><td>NA</td><td>NA</td><td>1</td><td>13</td></tr>\n",
              "\t<tr><td> 1</td><td> 9</td><td>doxycycline  </td><td>IV</td><td> 7</td><td> 2</td><td>0</td><td>13</td></tr>\n",
              "\t<tr><td> 1</td><td>15</td><td>penicillin   </td><td>IV</td><td>NA</td><td>NA</td><td>1</td><td>13</td></tr>\n",
              "\t<tr><td> 1</td><td>16</td><td>doxycycline  </td><td>IV</td><td> 9</td><td> 7</td><td>1</td><td>13</td></tr>\n",
              "\t<tr><td> 1</td><td>18</td><td>ciprofloxacin</td><td>IV</td><td> 6</td><td>12</td><td>1</td><td>13</td></tr>\n",
              "\t<tr><td> 8</td><td> 1</td><td>doxycycline  </td><td>PO</td><td>NA</td><td>NA</td><td>1</td><td> 2</td></tr>\n",
              "\t<tr><td> 8</td><td> 2</td><td>penicillin   </td><td>IV</td><td>NA</td><td>NA</td><td>1</td><td> 2</td></tr>\n",
              "\t<tr><td> 8</td><td> 3</td><td>doxycycline  </td><td>IV</td><td> 1</td><td> 2</td><td>0</td><td> 2</td></tr>\n",
              "\t<tr><td> 8</td><td> 6</td><td>doxycycline  </td><td>PO</td><td> 3</td><td> 3</td><td>1</td><td> 2</td></tr>\n",
              "\t<tr><td> 8</td><td> 8</td><td>penicillin   </td><td>PO</td><td> 2</td><td> 6</td><td>1</td><td> 2</td></tr>\n",
              "\t<tr><td> 8</td><td>12</td><td>penicillin   </td><td>IV</td><td> 8</td><td> 4</td><td>1</td><td> 2</td></tr>\n",
              "\t<tr><td> 8</td><td> 1</td><td>doxycycline  </td><td>PO</td><td>NA</td><td>NA</td><td>1</td><td>13</td></tr>\n",
              "\t<tr><td> 8</td><td> 2</td><td>penicillin   </td><td>IV</td><td>NA</td><td>NA</td><td>1</td><td>13</td></tr>\n",
              "\t<tr><td> 8</td><td> 3</td><td>doxycycline  </td><td>IV</td><td> 1</td><td> 2</td><td>0</td><td>13</td></tr>\n",
              "\t<tr><td> 8</td><td> 6</td><td>doxycycline  </td><td>PO</td><td> 3</td><td> 3</td><td>1</td><td>13</td></tr>\n",
              "\t<tr><td> 8</td><td> 8</td><td>penicillin   </td><td>PO</td><td> 2</td><td> 6</td><td>1</td><td>13</td></tr>\n",
              "\t<tr><td> 8</td><td>12</td><td>penicillin   </td><td>IV</td><td> 8</td><td> 4</td><td>1</td><td>13</td></tr>\n",
              "\t<tr><td>23</td><td> 1</td><td>doxycycline  </td><td>IV</td><td>NA</td><td>NA</td><td>1</td><td> 3</td></tr>\n",
              "\t<tr><td>23</td><td> 1</td><td>penicillin   </td><td>IV</td><td>NA</td><td>NA</td><td>1</td><td> 3</td></tr>\n",
              "</tbody>\n",
              "</table>\n"
            ]
          },
          "metadata": {
            "tags": []
          }
        }
      ]
    },
    {
      "cell_type": "markdown",
      "metadata": {
        "dc": {
          "key": "32"
        },
        "deletable": false,
        "editable": false,
        "run_control": {
          "frozen": true
        },
        "tags": [
          "context"
        ],
        "id": "XORZvkZnkmSy",
        "colab_type": "text"
      },
      "source": [
        "## 5. Determine whether each row is in-window\n",
        "<p>Now that we have the antibiotic and blood culture data combined, we can test each drug administration against each blood culture to see if it's \"in the window.\"</p>"
      ]
    },
    {
      "cell_type": "code",
      "metadata": {
        "dc": {
          "key": "32"
        },
        "tags": [
          "sample_code"
        ],
        "trusted": false,
        "id": "L_-QjnXKkmS0",
        "colab_type": "code",
        "colab": {
          "base_uri": "https://localhost:8080/",
          "height": 157
        },
        "outputId": "00b24ed3-fc0f-435f-864e-1aa5d3496170"
      },
      "source": [
        "# Make a new variable called drug_in_bcx_window\n",
        "combinedDT[ , \n",
        "  drug_in_bcx_window := \n",
        "           as.numeric(\n",
        "               day_given - blood_culture_day <= 2 \n",
        "               & \n",
        "               day_given - blood_culture_day >= -2)]\n",
        "combinedDT[1:5]"
      ],
      "execution_count": 11,
      "outputs": [
        {
          "output_type": "display_data",
          "data": {
            "text/plain": [
              "  patient_id day_given antibiotic_type route last_administration_day\n",
              "1 1          2         ciprofloxacin   IV    NA                     \n",
              "2 1          4         ciprofloxacin   IV     2                     \n",
              "3 1          6         ciprofloxacin   IV     4                     \n",
              "4 1          7         doxycycline     IV    NA                     \n",
              "5 1          9         doxycycline     IV     7                     \n",
              "  days_since_last_admin antibiotic_new blood_culture_day drug_in_bcx_window\n",
              "1 NA                    1              3                 1                 \n",
              "2  2                    0              3                 1                 \n",
              "3  2                    0              3                 0                 \n",
              "4 NA                    1              3                 0                 \n",
              "5  2                    0              3                 0                 "
            ],
            "text/latex": "A data.table: 5 × 9\n\\begin{tabular}{lllllllll}\n patient\\_id & day\\_given & antibiotic\\_type & route & last\\_administration\\_day & days\\_since\\_last\\_admin & antibiotic\\_new & blood\\_culture\\_day & drug\\_in\\_bcx\\_window\\\\\n <int> & <int> & <chr> & <chr> & <int> & <int> & <dbl> & <int> & <dbl>\\\\\n\\hline\n\t 1 & 2 & ciprofloxacin & IV & NA & NA & 1 & 3 & 1\\\\\n\t 1 & 4 & ciprofloxacin & IV &  2 &  2 & 0 & 3 & 1\\\\\n\t 1 & 6 & ciprofloxacin & IV &  4 &  2 & 0 & 3 & 0\\\\\n\t 1 & 7 & doxycycline   & IV & NA & NA & 1 & 3 & 0\\\\\n\t 1 & 9 & doxycycline   & IV &  7 &  2 & 0 & 3 & 0\\\\\n\\end{tabular}\n",
            "text/markdown": "\nA data.table: 5 × 9\n\n| patient_id &lt;int&gt; | day_given &lt;int&gt; | antibiotic_type &lt;chr&gt; | route &lt;chr&gt; | last_administration_day &lt;int&gt; | days_since_last_admin &lt;int&gt; | antibiotic_new &lt;dbl&gt; | blood_culture_day &lt;int&gt; | drug_in_bcx_window &lt;dbl&gt; |\n|---|---|---|---|---|---|---|---|---|\n| 1 | 2 | ciprofloxacin | IV | NA | NA | 1 | 3 | 1 |\n| 1 | 4 | ciprofloxacin | IV |  2 |  2 | 0 | 3 | 1 |\n| 1 | 6 | ciprofloxacin | IV |  4 |  2 | 0 | 3 | 0 |\n| 1 | 7 | doxycycline   | IV | NA | NA | 1 | 3 | 0 |\n| 1 | 9 | doxycycline   | IV |  7 |  2 | 0 | 3 | 0 |\n\n",
            "text/html": [
              "<table>\n",
              "<caption>A data.table: 5 × 9</caption>\n",
              "<thead>\n",
              "\t<tr><th scope=col>patient_id</th><th scope=col>day_given</th><th scope=col>antibiotic_type</th><th scope=col>route</th><th scope=col>last_administration_day</th><th scope=col>days_since_last_admin</th><th scope=col>antibiotic_new</th><th scope=col>blood_culture_day</th><th scope=col>drug_in_bcx_window</th></tr>\n",
              "\t<tr><th scope=col>&lt;int&gt;</th><th scope=col>&lt;int&gt;</th><th scope=col>&lt;chr&gt;</th><th scope=col>&lt;chr&gt;</th><th scope=col>&lt;int&gt;</th><th scope=col>&lt;int&gt;</th><th scope=col>&lt;dbl&gt;</th><th scope=col>&lt;int&gt;</th><th scope=col>&lt;dbl&gt;</th></tr>\n",
              "</thead>\n",
              "<tbody>\n",
              "\t<tr><td>1</td><td>2</td><td>ciprofloxacin</td><td>IV</td><td>NA</td><td>NA</td><td>1</td><td>3</td><td>1</td></tr>\n",
              "\t<tr><td>1</td><td>4</td><td>ciprofloxacin</td><td>IV</td><td> 2</td><td> 2</td><td>0</td><td>3</td><td>1</td></tr>\n",
              "\t<tr><td>1</td><td>6</td><td>ciprofloxacin</td><td>IV</td><td> 4</td><td> 2</td><td>0</td><td>3</td><td>0</td></tr>\n",
              "\t<tr><td>1</td><td>7</td><td>doxycycline  </td><td>IV</td><td>NA</td><td>NA</td><td>1</td><td>3</td><td>0</td></tr>\n",
              "\t<tr><td>1</td><td>9</td><td>doxycycline  </td><td>IV</td><td> 7</td><td> 2</td><td>0</td><td>3</td><td>0</td></tr>\n",
              "</tbody>\n",
              "</table>\n"
            ]
          },
          "metadata": {
            "tags": []
          }
        }
      ]
    },
    {
      "cell_type": "markdown",
      "metadata": {
        "dc": {
          "key": "39"
        },
        "deletable": false,
        "editable": false,
        "run_control": {
          "frozen": true
        },
        "tags": [
          "context"
        ],
        "id": "yeRg10yrkmS5",
        "colab_type": "text"
      },
      "source": [
        "## 6. Check the I.V. requirement\n",
        "<p>Now let's look at the fourth item in the criteria. </p>\n",
        "<p><strong>Criteria for Suspected Infection</strong><a href=\"https://www.ncbi.nlm.nih.gov/pubmed/28903154\">*</a></p>\n",
        "<ol>\n",
        "<li>The patient receives antibiotics for a sequence of four days, with gaps of one day allowed.</li>\n",
        "<li>The sequence must start with a new antibiotic, defined as an antibiotic type that was not given in the previous two days.</li>\n",
        "<li>The sequence must start within two days of a blood culture.</li>\n",
        "<li><em>There must be at least one intervenous (I.V.) antibiotic within the +/-2 day window.</em></li>\n",
        "</ol>"
      ]
    },
    {
      "cell_type": "code",
      "metadata": {
        "dc": {
          "key": "39"
        },
        "tags": [
          "sample_code"
        ],
        "trusted": false,
        "id": "iT4Y1rv1kmS6",
        "colab_type": "code",
        "colab": {
          "base_uri": "https://localhost:8080/",
          "height": 157
        },
        "outputId": "5fbf3804-e7ab-4fd8-916a-7860ffb94ed8"
      },
      "source": [
        "# Create a variable indicating if there was at least one I.V. drug given in the window\n",
        "combinedDT[ , \n",
        "  any_iv_in_bcx_window := as.numeric(any(route == 'IV' & drug_in_bcx_window == 1)),\n",
        "  by = .(patient_id, blood_culture_day)]\n",
        "# Exclude rows in which the blood_culture_day does not have any I.V. drugs in window \n",
        "combinedDT <- combinedDT[any_iv_in_bcx_window == 1]\n",
        "combinedDT[1:5]"
      ],
      "execution_count": 12,
      "outputs": [
        {
          "output_type": "display_data",
          "data": {
            "text/plain": [
              "  patient_id day_given antibiotic_type route last_administration_day\n",
              "1 1          2         ciprofloxacin   IV    NA                     \n",
              "2 1          4         ciprofloxacin   IV     2                     \n",
              "3 1          6         ciprofloxacin   IV     4                     \n",
              "4 1          7         doxycycline     IV    NA                     \n",
              "5 1          9         doxycycline     IV     7                     \n",
              "  days_since_last_admin antibiotic_new blood_culture_day drug_in_bcx_window\n",
              "1 NA                    1              3                 1                 \n",
              "2  2                    0              3                 1                 \n",
              "3  2                    0              3                 0                 \n",
              "4 NA                    1              3                 0                 \n",
              "5  2                    0              3                 0                 \n",
              "  any_iv_in_bcx_window\n",
              "1 1                   \n",
              "2 1                   \n",
              "3 1                   \n",
              "4 1                   \n",
              "5 1                   "
            ],
            "text/latex": "A data.table: 5 × 10\n\\begin{tabular}{llllllllll}\n patient\\_id & day\\_given & antibiotic\\_type & route & last\\_administration\\_day & days\\_since\\_last\\_admin & antibiotic\\_new & blood\\_culture\\_day & drug\\_in\\_bcx\\_window & any\\_iv\\_in\\_bcx\\_window\\\\\n <int> & <int> & <chr> & <chr> & <int> & <int> & <dbl> & <int> & <dbl> & <dbl>\\\\\n\\hline\n\t 1 & 2 & ciprofloxacin & IV & NA & NA & 1 & 3 & 1 & 1\\\\\n\t 1 & 4 & ciprofloxacin & IV &  2 &  2 & 0 & 3 & 1 & 1\\\\\n\t 1 & 6 & ciprofloxacin & IV &  4 &  2 & 0 & 3 & 0 & 1\\\\\n\t 1 & 7 & doxycycline   & IV & NA & NA & 1 & 3 & 0 & 1\\\\\n\t 1 & 9 & doxycycline   & IV &  7 &  2 & 0 & 3 & 0 & 1\\\\\n\\end{tabular}\n",
            "text/markdown": "\nA data.table: 5 × 10\n\n| patient_id &lt;int&gt; | day_given &lt;int&gt; | antibiotic_type &lt;chr&gt; | route &lt;chr&gt; | last_administration_day &lt;int&gt; | days_since_last_admin &lt;int&gt; | antibiotic_new &lt;dbl&gt; | blood_culture_day &lt;int&gt; | drug_in_bcx_window &lt;dbl&gt; | any_iv_in_bcx_window &lt;dbl&gt; |\n|---|---|---|---|---|---|---|---|---|---|\n| 1 | 2 | ciprofloxacin | IV | NA | NA | 1 | 3 | 1 | 1 |\n| 1 | 4 | ciprofloxacin | IV |  2 |  2 | 0 | 3 | 1 | 1 |\n| 1 | 6 | ciprofloxacin | IV |  4 |  2 | 0 | 3 | 0 | 1 |\n| 1 | 7 | doxycycline   | IV | NA | NA | 1 | 3 | 0 | 1 |\n| 1 | 9 | doxycycline   | IV |  7 |  2 | 0 | 3 | 0 | 1 |\n\n",
            "text/html": [
              "<table>\n",
              "<caption>A data.table: 5 × 10</caption>\n",
              "<thead>\n",
              "\t<tr><th scope=col>patient_id</th><th scope=col>day_given</th><th scope=col>antibiotic_type</th><th scope=col>route</th><th scope=col>last_administration_day</th><th scope=col>days_since_last_admin</th><th scope=col>antibiotic_new</th><th scope=col>blood_culture_day</th><th scope=col>drug_in_bcx_window</th><th scope=col>any_iv_in_bcx_window</th></tr>\n",
              "\t<tr><th scope=col>&lt;int&gt;</th><th scope=col>&lt;int&gt;</th><th scope=col>&lt;chr&gt;</th><th scope=col>&lt;chr&gt;</th><th scope=col>&lt;int&gt;</th><th scope=col>&lt;int&gt;</th><th scope=col>&lt;dbl&gt;</th><th scope=col>&lt;int&gt;</th><th scope=col>&lt;dbl&gt;</th><th scope=col>&lt;dbl&gt;</th></tr>\n",
              "</thead>\n",
              "<tbody>\n",
              "\t<tr><td>1</td><td>2</td><td>ciprofloxacin</td><td>IV</td><td>NA</td><td>NA</td><td>1</td><td>3</td><td>1</td><td>1</td></tr>\n",
              "\t<tr><td>1</td><td>4</td><td>ciprofloxacin</td><td>IV</td><td> 2</td><td> 2</td><td>0</td><td>3</td><td>1</td><td>1</td></tr>\n",
              "\t<tr><td>1</td><td>6</td><td>ciprofloxacin</td><td>IV</td><td> 4</td><td> 2</td><td>0</td><td>3</td><td>0</td><td>1</td></tr>\n",
              "\t<tr><td>1</td><td>7</td><td>doxycycline  </td><td>IV</td><td>NA</td><td>NA</td><td>1</td><td>3</td><td>0</td><td>1</td></tr>\n",
              "\t<tr><td>1</td><td>9</td><td>doxycycline  </td><td>IV</td><td> 7</td><td> 2</td><td>0</td><td>3</td><td>0</td><td>1</td></tr>\n",
              "</tbody>\n",
              "</table>\n"
            ]
          },
          "metadata": {
            "tags": []
          }
        }
      ]
    },
    {
      "cell_type": "markdown",
      "metadata": {
        "dc": {
          "key": "46"
        },
        "deletable": false,
        "editable": false,
        "run_control": {
          "frozen": true
        },
        "tags": [
          "context"
        ],
        "id": "VsM2xbSGkmTB",
        "colab_type": "text"
      },
      "source": [
        "## 7. Find the first day of possible sequences\n",
        "<p>We're getting close! Let's review the criteria again.</p>\n",
        "<p><strong>Criteria for Suspected Infection</strong><a href=\"https://www.ncbi.nlm.nih.gov/pubmed/28903154\">*</a></p>\n",
        "<ol>\n",
        "<li>The patient receives antibiotics for a sequence of four days, with gaps of one day allowed.</li>\n",
        "<li>The sequence must start with a new antibiotic, defined as an antibiotic type that was not given in the previous two days.</li>\n",
        "<li>The sequence must start within two days of a blood culture.</li>\n",
        "<li>There must be at least one intervenous (I.V.) antibiotic within the +/-2 day window.</li>\n",
        "</ol>\n",
        "<p>Let's assess the first criterion by finding the first day of possible 4-day qualifying sequences.    </p>"
      ]
    },
    {
      "cell_type": "code",
      "metadata": {
        "dc": {
          "key": "46"
        },
        "tags": [
          "sample_code"
        ],
        "trusted": false,
        "id": "rODbi936kmTC",
        "colab_type": "code",
        "colab": {
          "base_uri": "https://localhost:8080/",
          "height": 177
        },
        "outputId": "ca11d29f-7f9f-488c-83b9-b00daedfb18a"
      },
      "source": [
        "# Create a new variable called day_of_first_new_abx_in_window\n",
        "combinedDT[,\n",
        "          day_of_first_new_abx_in_window := \n",
        "           day_given[antibiotic_new == 1 & drug_in_bcx_window == 1][1],\n",
        "           by = .(patient_id, blood_culture_day)\n",
        "          ]\n",
        "\n",
        "# Remove rows where the day is before this first qualifying day\n",
        "combinedDT <- combinedDT[day_given >= day_of_first_new_abx_in_window]\n",
        "combinedDT[1:5]"
      ],
      "execution_count": 13,
      "outputs": [
        {
          "output_type": "display_data",
          "data": {
            "text/plain": [
              "  patient_id day_given antibiotic_type route last_administration_day\n",
              "1 1          2         ciprofloxacin   IV    NA                     \n",
              "2 1          4         ciprofloxacin   IV     2                     \n",
              "3 1          6         ciprofloxacin   IV     4                     \n",
              "4 1          7         doxycycline     IV    NA                     \n",
              "5 1          9         doxycycline     IV     7                     \n",
              "  days_since_last_admin antibiotic_new blood_culture_day drug_in_bcx_window\n",
              "1 NA                    1              3                 1                 \n",
              "2  2                    0              3                 1                 \n",
              "3  2                    0              3                 0                 \n",
              "4 NA                    1              3                 0                 \n",
              "5  2                    0              3                 0                 \n",
              "  any_iv_in_bcx_window day_of_first_new_abx_in_window\n",
              "1 1                    2                             \n",
              "2 1                    2                             \n",
              "3 1                    2                             \n",
              "4 1                    2                             \n",
              "5 1                    2                             "
            ],
            "text/latex": "A data.table: 5 × 11\n\\begin{tabular}{lllllllllll}\n patient\\_id & day\\_given & antibiotic\\_type & route & last\\_administration\\_day & days\\_since\\_last\\_admin & antibiotic\\_new & blood\\_culture\\_day & drug\\_in\\_bcx\\_window & any\\_iv\\_in\\_bcx\\_window & day\\_of\\_first\\_new\\_abx\\_in\\_window\\\\\n <int> & <int> & <chr> & <chr> & <int> & <int> & <dbl> & <int> & <dbl> & <dbl> & <int>\\\\\n\\hline\n\t 1 & 2 & ciprofloxacin & IV & NA & NA & 1 & 3 & 1 & 1 & 2\\\\\n\t 1 & 4 & ciprofloxacin & IV &  2 &  2 & 0 & 3 & 1 & 1 & 2\\\\\n\t 1 & 6 & ciprofloxacin & IV &  4 &  2 & 0 & 3 & 0 & 1 & 2\\\\\n\t 1 & 7 & doxycycline   & IV & NA & NA & 1 & 3 & 0 & 1 & 2\\\\\n\t 1 & 9 & doxycycline   & IV &  7 &  2 & 0 & 3 & 0 & 1 & 2\\\\\n\\end{tabular}\n",
            "text/markdown": "\nA data.table: 5 × 11\n\n| patient_id &lt;int&gt; | day_given &lt;int&gt; | antibiotic_type &lt;chr&gt; | route &lt;chr&gt; | last_administration_day &lt;int&gt; | days_since_last_admin &lt;int&gt; | antibiotic_new &lt;dbl&gt; | blood_culture_day &lt;int&gt; | drug_in_bcx_window &lt;dbl&gt; | any_iv_in_bcx_window &lt;dbl&gt; | day_of_first_new_abx_in_window &lt;int&gt; |\n|---|---|---|---|---|---|---|---|---|---|---|\n| 1 | 2 | ciprofloxacin | IV | NA | NA | 1 | 3 | 1 | 1 | 2 |\n| 1 | 4 | ciprofloxacin | IV |  2 |  2 | 0 | 3 | 1 | 1 | 2 |\n| 1 | 6 | ciprofloxacin | IV |  4 |  2 | 0 | 3 | 0 | 1 | 2 |\n| 1 | 7 | doxycycline   | IV | NA | NA | 1 | 3 | 0 | 1 | 2 |\n| 1 | 9 | doxycycline   | IV |  7 |  2 | 0 | 3 | 0 | 1 | 2 |\n\n",
            "text/html": [
              "<table>\n",
              "<caption>A data.table: 5 × 11</caption>\n",
              "<thead>\n",
              "\t<tr><th scope=col>patient_id</th><th scope=col>day_given</th><th scope=col>antibiotic_type</th><th scope=col>route</th><th scope=col>last_administration_day</th><th scope=col>days_since_last_admin</th><th scope=col>antibiotic_new</th><th scope=col>blood_culture_day</th><th scope=col>drug_in_bcx_window</th><th scope=col>any_iv_in_bcx_window</th><th scope=col>day_of_first_new_abx_in_window</th></tr>\n",
              "\t<tr><th scope=col>&lt;int&gt;</th><th scope=col>&lt;int&gt;</th><th scope=col>&lt;chr&gt;</th><th scope=col>&lt;chr&gt;</th><th scope=col>&lt;int&gt;</th><th scope=col>&lt;int&gt;</th><th scope=col>&lt;dbl&gt;</th><th scope=col>&lt;int&gt;</th><th scope=col>&lt;dbl&gt;</th><th scope=col>&lt;dbl&gt;</th><th scope=col>&lt;int&gt;</th></tr>\n",
              "</thead>\n",
              "<tbody>\n",
              "\t<tr><td>1</td><td>2</td><td>ciprofloxacin</td><td>IV</td><td>NA</td><td>NA</td><td>1</td><td>3</td><td>1</td><td>1</td><td>2</td></tr>\n",
              "\t<tr><td>1</td><td>4</td><td>ciprofloxacin</td><td>IV</td><td> 2</td><td> 2</td><td>0</td><td>3</td><td>1</td><td>1</td><td>2</td></tr>\n",
              "\t<tr><td>1</td><td>6</td><td>ciprofloxacin</td><td>IV</td><td> 4</td><td> 2</td><td>0</td><td>3</td><td>0</td><td>1</td><td>2</td></tr>\n",
              "\t<tr><td>1</td><td>7</td><td>doxycycline  </td><td>IV</td><td>NA</td><td>NA</td><td>1</td><td>3</td><td>0</td><td>1</td><td>2</td></tr>\n",
              "\t<tr><td>1</td><td>9</td><td>doxycycline  </td><td>IV</td><td> 7</td><td> 2</td><td>0</td><td>3</td><td>0</td><td>1</td><td>2</td></tr>\n",
              "</tbody>\n",
              "</table>\n"
            ]
          },
          "metadata": {
            "tags": []
          }
        }
      ]
    },
    {
      "cell_type": "markdown",
      "metadata": {
        "dc": {
          "key": "53"
        },
        "deletable": false,
        "editable": false,
        "run_control": {
          "frozen": true
        },
        "tags": [
          "context"
        ],
        "id": "Xmq2ik_LkmTJ",
        "colab_type": "text"
      },
      "source": [
        "## 8. Simplify the data\n",
        "<p>The first criterion is: <em>The patient receives antibiotics for a sequence of four days, with gaps of one day allowed.</em></p>\n",
        "<p>We've pinned down the first day of possible sequences in the previous task. Now we have to check for four-day sequences. We don't need the drug type (name); we need the days the antibiotics were administered.</p>"
      ]
    },
    {
      "cell_type": "code",
      "metadata": {
        "dc": {
          "key": "53"
        },
        "tags": [
          "sample_code"
        ],
        "trusted": false,
        "id": "X8-DNqlXkmTK",
        "colab_type": "code",
        "colab": {
          "base_uri": "https://localhost:8080/",
          "height": 157
        },
        "outputId": "a143a3e2-3c2f-4aa6-993b-0be706d59803"
      },
      "source": [
        "# Create a new data.table containing only patient_id, blood_culture_day, and day_given\n",
        "simplified_data <- combinedDT[, .(patient_id, blood_culture_day, day_given)]\n",
        "\n",
        "# Remove duplicate rows\n",
        "simplified_data <- unique(simplified_data)\n",
        "simplified_data[1:5]"
      ],
      "execution_count": 14,
      "outputs": [
        {
          "output_type": "display_data",
          "data": {
            "text/plain": [
              "  patient_id blood_culture_day day_given\n",
              "1 1          3                 2        \n",
              "2 1          3                 4        \n",
              "3 1          3                 6        \n",
              "4 1          3                 7        \n",
              "5 1          3                 9        "
            ],
            "text/latex": "A data.table: 5 × 3\n\\begin{tabular}{lll}\n patient\\_id & blood\\_culture\\_day & day\\_given\\\\\n <int> & <int> & <int>\\\\\n\\hline\n\t 1 & 3 & 2\\\\\n\t 1 & 3 & 4\\\\\n\t 1 & 3 & 6\\\\\n\t 1 & 3 & 7\\\\\n\t 1 & 3 & 9\\\\\n\\end{tabular}\n",
            "text/markdown": "\nA data.table: 5 × 3\n\n| patient_id &lt;int&gt; | blood_culture_day &lt;int&gt; | day_given &lt;int&gt; |\n|---|---|---|\n| 1 | 3 | 2 |\n| 1 | 3 | 4 |\n| 1 | 3 | 6 |\n| 1 | 3 | 7 |\n| 1 | 3 | 9 |\n\n",
            "text/html": [
              "<table>\n",
              "<caption>A data.table: 5 × 3</caption>\n",
              "<thead>\n",
              "\t<tr><th scope=col>patient_id</th><th scope=col>blood_culture_day</th><th scope=col>day_given</th></tr>\n",
              "\t<tr><th scope=col>&lt;int&gt;</th><th scope=col>&lt;int&gt;</th><th scope=col>&lt;int&gt;</th></tr>\n",
              "</thead>\n",
              "<tbody>\n",
              "\t<tr><td>1</td><td>3</td><td>2</td></tr>\n",
              "\t<tr><td>1</td><td>3</td><td>4</td></tr>\n",
              "\t<tr><td>1</td><td>3</td><td>6</td></tr>\n",
              "\t<tr><td>1</td><td>3</td><td>7</td></tr>\n",
              "\t<tr><td>1</td><td>3</td><td>9</td></tr>\n",
              "</tbody>\n",
              "</table>\n"
            ]
          },
          "metadata": {
            "tags": []
          }
        }
      ]
    },
    {
      "cell_type": "markdown",
      "metadata": {
        "dc": {
          "key": "60"
        },
        "deletable": false,
        "editable": false,
        "run_control": {
          "frozen": true
        },
        "tags": [
          "context"
        ],
        "id": "VRPnLdH_kmTO",
        "colab_type": "text"
      },
      "source": [
        "## 9. Extract first four rows for each blood culture\n",
        "<p>To check for four-day sequences, let's pull out the first four days (rows) for each patient/blood culture combination. Some patients will have less than four antibiotic days. We'll remove them first.</p>"
      ]
    },
    {
      "cell_type": "code",
      "metadata": {
        "dc": {
          "key": "60"
        },
        "tags": [
          "sample_code"
        ],
        "trusted": false,
        "id": "-n1Wty7skmTP",
        "colab_type": "code",
        "colab": {
          "base_uri": "https://localhost:8080/",
          "height": 157
        },
        "outputId": "aa4a3228-58d7-4361-c6c1-95a6adca93b3"
      },
      "source": [
        "# Count the antibiotic days within each patient/blood culture day combination\n",
        "simplified_data[, num_antibiotic_days := .N, by = .(patient_id, blood_culture_day)]\n",
        "\n",
        "# Remove blood culture days with less than four rows \n",
        "simplified_data <- simplified_data[num_antibiotic_days >= 4]\n",
        "\n",
        "# Select the first four days for each blood culture\n",
        "first_four_days <- simplified_data[, .SD[1:4], by = .(patient_id, blood_culture_day)]\n",
        "first_four_days[1:5]"
      ],
      "execution_count": 15,
      "outputs": [
        {
          "output_type": "display_data",
          "data": {
            "text/plain": [
              "  patient_id blood_culture_day day_given num_antibiotic_days\n",
              "1 1          3                 2         8                  \n",
              "2 1          3                 4         8                  \n",
              "3 1          3                 6         8                  \n",
              "4 1          3                 7         8                  \n",
              "5 8          2                 1         6                  "
            ],
            "text/latex": "A data.table: 5 × 4\n\\begin{tabular}{llll}\n patient\\_id & blood\\_culture\\_day & day\\_given & num\\_antibiotic\\_days\\\\\n <int> & <int> & <int> & <int>\\\\\n\\hline\n\t 1 & 3 & 2 & 8\\\\\n\t 1 & 3 & 4 & 8\\\\\n\t 1 & 3 & 6 & 8\\\\\n\t 1 & 3 & 7 & 8\\\\\n\t 8 & 2 & 1 & 6\\\\\n\\end{tabular}\n",
            "text/markdown": "\nA data.table: 5 × 4\n\n| patient_id &lt;int&gt; | blood_culture_day &lt;int&gt; | day_given &lt;int&gt; | num_antibiotic_days &lt;int&gt; |\n|---|---|---|---|\n| 1 | 3 | 2 | 8 |\n| 1 | 3 | 4 | 8 |\n| 1 | 3 | 6 | 8 |\n| 1 | 3 | 7 | 8 |\n| 8 | 2 | 1 | 6 |\n\n",
            "text/html": [
              "<table>\n",
              "<caption>A data.table: 5 × 4</caption>\n",
              "<thead>\n",
              "\t<tr><th scope=col>patient_id</th><th scope=col>blood_culture_day</th><th scope=col>day_given</th><th scope=col>num_antibiotic_days</th></tr>\n",
              "\t<tr><th scope=col>&lt;int&gt;</th><th scope=col>&lt;int&gt;</th><th scope=col>&lt;int&gt;</th><th scope=col>&lt;int&gt;</th></tr>\n",
              "</thead>\n",
              "<tbody>\n",
              "\t<tr><td>1</td><td>3</td><td>2</td><td>8</td></tr>\n",
              "\t<tr><td>1</td><td>3</td><td>4</td><td>8</td></tr>\n",
              "\t<tr><td>1</td><td>3</td><td>6</td><td>8</td></tr>\n",
              "\t<tr><td>1</td><td>3</td><td>7</td><td>8</td></tr>\n",
              "\t<tr><td>8</td><td>2</td><td>1</td><td>6</td></tr>\n",
              "</tbody>\n",
              "</table>\n"
            ]
          },
          "metadata": {
            "tags": []
          }
        }
      ]
    },
    {
      "cell_type": "markdown",
      "metadata": {
        "dc": {
          "key": "67"
        },
        "deletable": false,
        "editable": false,
        "run_control": {
          "frozen": true
        },
        "tags": [
          "context"
        ],
        "id": "TzJQBbsGkmTT",
        "colab_type": "text"
      },
      "source": [
        "## 10. Consecutive sequence\n",
        "<p>Now we need to check whether each four-day sequence qualifies by having no gaps of more than one day.</p>\n",
        "<!--\"Patient receives antibiotics for a sequence of 4 days, with gaps of 1 day allowed.\"-->"
      ]
    },
    {
      "cell_type": "code",
      "metadata": {
        "dc": {
          "key": "67"
        },
        "tags": [
          "sample_code"
        ],
        "trusted": false,
        "id": "LBf26qrWkmTV",
        "colab_type": "code",
        "colab": {}
      },
      "source": [
        "# Make the indicator for consecutive sequence\n",
        "first_four_days[,\n",
        "               four_in_seq := as.numeric(max(diff(day_given)) < 3), by = .(patient_id, blood_culture_day)\n",
        "               ]"
      ],
      "execution_count": 16,
      "outputs": []
    },
    {
      "cell_type": "markdown",
      "metadata": {
        "dc": {
          "key": "74"
        },
        "deletable": false,
        "editable": false,
        "run_control": {
          "frozen": true
        },
        "tags": [
          "context"
        ],
        "id": "uYVZ9M0GkmTa",
        "colab_type": "text"
      },
      "source": [
        "## 11. Select the patients who meet criteria\n",
        "<p>A patient would meet the criteria if any of their blood cultures were accompanied by a qualifying sequence of antibiotics. Now that we've determined which each blood culture qualify let's select the patients who meet the criteria.</p>"
      ]
    },
    {
      "cell_type": "code",
      "metadata": {
        "dc": {
          "key": "74"
        },
        "tags": [
          "sample_code"
        ],
        "trusted": false,
        "id": "ECdYiylDkmTb",
        "colab_type": "code",
        "colab": {
          "base_uri": "https://localhost:8080/",
          "height": 157
        },
        "outputId": "409002ae-9692-49b5-f0b1-a6346a0f034d"
      },
      "source": [
        "# Select the rows which have four_in_seq equal to 1\n",
        "suspected_infection <- first_four_days[four_in_seq == 1]\n",
        "\n",
        "# Retain only the patient_id column\n",
        "suspected_infection <- suspected_infection[, .(patient_id)]\n",
        "\n",
        "# Remove duplicates\n",
        "suspected_infection <- unique(suspected_infection)\n",
        "\n",
        "# Make an infection indicator\n",
        "suspected_infection[, infection := 1]\n",
        "suspected_infection[1:5]"
      ],
      "execution_count": 17,
      "outputs": [
        {
          "output_type": "display_data",
          "data": {
            "text/plain": [
              "  patient_id infection\n",
              "1   1        1        \n",
              "2  23        1        \n",
              "3  64        1        \n",
              "4  76        1        \n",
              "5 164        1        "
            ],
            "text/latex": "A data.table: 5 × 2\n\\begin{tabular}{ll}\n patient\\_id & infection\\\\\n <int> & <dbl>\\\\\n\\hline\n\t   1 & 1\\\\\n\t  23 & 1\\\\\n\t  64 & 1\\\\\n\t  76 & 1\\\\\n\t 164 & 1\\\\\n\\end{tabular}\n",
            "text/markdown": "\nA data.table: 5 × 2\n\n| patient_id &lt;int&gt; | infection &lt;dbl&gt; |\n|---|---|\n|   1 | 1 |\n|  23 | 1 |\n|  64 | 1 |\n|  76 | 1 |\n| 164 | 1 |\n\n",
            "text/html": [
              "<table>\n",
              "<caption>A data.table: 5 × 2</caption>\n",
              "<thead>\n",
              "\t<tr><th scope=col>patient_id</th><th scope=col>infection</th></tr>\n",
              "\t<tr><th scope=col>&lt;int&gt;</th><th scope=col>&lt;dbl&gt;</th></tr>\n",
              "</thead>\n",
              "<tbody>\n",
              "\t<tr><td>  1</td><td>1</td></tr>\n",
              "\t<tr><td> 23</td><td>1</td></tr>\n",
              "\t<tr><td> 64</td><td>1</td></tr>\n",
              "\t<tr><td> 76</td><td>1</td></tr>\n",
              "\t<tr><td>164</td><td>1</td></tr>\n",
              "</tbody>\n",
              "</table>\n"
            ]
          },
          "metadata": {
            "tags": []
          }
        }
      ]
    },
    {
      "cell_type": "markdown",
      "metadata": {
        "dc": {
          "key": "81"
        },
        "deletable": false,
        "editable": false,
        "run_control": {
          "frozen": true
        },
        "tags": [
          "context"
        ],
        "id": "B3ApL0hAkmTf",
        "colab_type": "text"
      },
      "source": [
        "## 12. Find the prevalence of sepsis\n",
        "<p>In this project, we used two EHR datasets to flag patients who were suspected of having a serious infection. We also got a <code>data.table</code> workout!</p>\n",
        "<p>So far, we've been looking at records of all antibiotics administered and blood cultures that occurred over two weeks at a particular hospital. However, not all patients who were hospitalized over this period are represented in <code>combinedDT</code> because not all of them took antibiotics or had blood culture tests. We have to read in and merge the rest of the patient information to see what percentage of patients at the hospital might have had a serious infection.</p>"
      ]
    },
    {
      "cell_type": "code",
      "metadata": {
        "dc": {
          "key": "81"
        },
        "tags": [
          "sample_code"
        ],
        "trusted": false,
        "id": "gZ3ScNAUkmTg",
        "colab_type": "code",
        "colab": {
          "base_uri": "https://localhost:8080/",
          "height": 261
        },
        "outputId": "d2a0b6f3-118e-4baa-ad68-70ed87d1971c"
      },
      "source": [
        "# Read in \"all_patients.csv\"\n",
        "all_patientsDT <- fread(\"/media/Dataset/all_patients.csv\")\n",
        "\n",
        "# Merge this with the infection flag data\n",
        "all_patientsDT <- merge(all_patientsDT, suspected_infection, all = TRUE)\n",
        "\n",
        "# Set any missing values of the infection flag to 0\n",
        "all_patientsDT <- all_patientsDT[is.na(infection), infection := 0]\n",
        "all_patientsDT[1:10]\n",
        "# Calculate the percentage of patients who met the criteria for presumed infection\n",
        "ans  <- 100* all_patientsDT[, mean(infection)]\n",
        "ans"
      ],
      "execution_count": 19,
      "outputs": [
        {
          "output_type": "display_data",
          "data": {
            "text/plain": [
              "   patient_id infection\n",
              "1   1         1        \n",
              "2   5         0        \n",
              "3   8         0        \n",
              "4   9         0        \n",
              "5  12         0        \n",
              "6  16         0        \n",
              "7  19         0        \n",
              "8  23         1        \n",
              "9  25         0        \n",
              "10 39         0        "
            ],
            "text/latex": "A data.table: 10 × 2\n\\begin{tabular}{ll}\n patient\\_id & infection\\\\\n <int> & <dbl>\\\\\n\\hline\n\t  1 & 1\\\\\n\t  5 & 0\\\\\n\t  8 & 0\\\\\n\t  9 & 0\\\\\n\t 12 & 0\\\\\n\t 16 & 0\\\\\n\t 19 & 0\\\\\n\t 23 & 1\\\\\n\t 25 & 0\\\\\n\t 39 & 0\\\\\n\\end{tabular}\n",
            "text/markdown": "\nA data.table: 10 × 2\n\n| patient_id &lt;int&gt; | infection &lt;dbl&gt; |\n|---|---|\n|  1 | 1 |\n|  5 | 0 |\n|  8 | 0 |\n|  9 | 0 |\n| 12 | 0 |\n| 16 | 0 |\n| 19 | 0 |\n| 23 | 1 |\n| 25 | 0 |\n| 39 | 0 |\n\n",
            "text/html": [
              "<table>\n",
              "<caption>A data.table: 10 × 2</caption>\n",
              "<thead>\n",
              "\t<tr><th scope=col>patient_id</th><th scope=col>infection</th></tr>\n",
              "\t<tr><th scope=col>&lt;int&gt;</th><th scope=col>&lt;dbl&gt;</th></tr>\n",
              "</thead>\n",
              "<tbody>\n",
              "\t<tr><td> 1</td><td>1</td></tr>\n",
              "\t<tr><td> 5</td><td>0</td></tr>\n",
              "\t<tr><td> 8</td><td>0</td></tr>\n",
              "\t<tr><td> 9</td><td>0</td></tr>\n",
              "\t<tr><td>12</td><td>0</td></tr>\n",
              "\t<tr><td>16</td><td>0</td></tr>\n",
              "\t<tr><td>19</td><td>0</td></tr>\n",
              "\t<tr><td>23</td><td>1</td></tr>\n",
              "\t<tr><td>25</td><td>0</td></tr>\n",
              "\t<tr><td>39</td><td>0</td></tr>\n",
              "</tbody>\n",
              "</table>\n"
            ]
          },
          "metadata": {
            "tags": []
          }
        },
        {
          "output_type": "display_data",
          "data": {
            "text/plain": [
              "[1] 14.94382"
            ],
            "text/latex": "14.9438202247191",
            "text/markdown": "14.9438202247191",
            "text/html": [
              "14.9438202247191"
            ]
          },
          "metadata": {
            "tags": []
          }
        }
      ]
    }
  ]
}